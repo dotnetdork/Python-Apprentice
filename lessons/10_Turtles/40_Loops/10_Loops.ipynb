{
 "cells": [
  {
   "cell_type": "markdown",
   "metadata": {},
   "source": [
    "# **Loops**\n",
    "\n",
    "Welcome to the world of loops! In this lesson, you'll discover how loops make programming easier and more powerful by allowing you to automate repetitive tasks, save time, write cleaner code, and solve problems more efficiently. By pairing loops with *Tina the Turtle*, you'll learn how to simplify your programs, reduce mistakes, and create amazing things with less effort!"
   ]
  },
  {
   "cell_type": "markdown",
   "metadata": {},
   "source": [
    "## **What is a Loop?**\n",
    "\n",
    "A <span title=\"A loop in programming is a structure that repeats a sequence of instructions until a certain condition is met.\" style=\"cursor: help\">**loop**</span> is a programming structure that allows you repeatedly execute a set of instructions until a certain condition is met. Instead of writing the same code over and over, you can use a loop to do the work for you. They can help you by making your code shorter and easier to read, making your code less likely to have mistakes.\n",
    "\n",
    "For example, in our first Tina the Turtle program, we had Tina draw a square. The code looked similar to this `ipyturtle3` version:"
   ]
  },
  {
   "cell_type": "code",
   "execution_count": null,
   "metadata": {},
   "outputs": [],
   "source": [
    "# Run Me!\n",
    "\n",
    "# Use `ipyturtle3` in place of the standard turtle\n",
    "import ipyturtle3 as turtle\n",
    "# Import necessary classes from `ipyturtle3`                          \n",
    "from ipyturtle3 import Canvas, TurtleScreen, Turtle \n",
    "\n",
    "# Create a Canvas for the `ipyturtle3` turtle to draw on\n",
    "myCanvas = Canvas(width=750, height=175)\n",
    "display(myCanvas)\n",
    "\n",
    "# Create a TurtleScreen similar to setting up the screen in standard turtle\n",
    "myTS = TurtleScreen(myCanvas)           # This is like turtle.Screen()\n",
    "myTS.clear()                            # Clear the screen to start fresh\n",
    "\n",
    "tina = Turtle(myTS)                     # Create a turtle named tina\n",
    "tina.shape('turtle')                    # Set the shape of the turtle to a turtle\n",
    "tina.speed(2)                           # Make the turtle move as fast, but not too fast.\n",
    "\n",
    "tina.hideturtle()                       # Hide the turtle while moving to start position\n",
    "tina.penup()                            # Lift the pen to move without drawing\n",
    "tina.goto(-300, -50)                    # Move tina to the left of the canvas\n",
    "tina.pendown()                          # Put the pen down to start drawing\n",
    "tina.showturtle()                       # Show the turtle again\n",
    "\n",
    "tina.forward(100)                       # Move tina forward by the forward distance\n",
    "tina.left(90)                           # Turn tina left by the left turn\n",
    "tina.forward(100)                       # Move tina forward by the forward distance\n",
    "tina.left(90)                           # Turn tina left by the left turn\n",
    "tina.forward(100)                       # Move tina forward by the forward distance\n",
    "tina.left(90)                           # Turn tina left by the left turn\n",
    "tina.forward(100)                       # Move tina forward by the forward distance\n",
    "tina.left(90)                           # Turn tina left by the left turn"
   ]
  },
  {
   "cell_type": "markdown",
   "metadata": {},
   "source": [
    "\n",
    "Notice how the last two lines (`tina.forward(150)` and `tina.left(90)`) are repeated four times. This makes the code longer, harder to read, and more likely to have mistakes if you need to change something. "
   ]
  },
  {
   "cell_type": "markdown",
   "metadata": {},
   "source": [
    "### **Using Loops with Tina the Turtle**\n",
    "\n",
    "Instead of repeating the same lines, we can use a loop to make Tina draw a square:"
   ]
  },
  {
   "cell_type": "code",
   "execution_count": null,
   "metadata": {},
   "outputs": [],
   "source": [
    "# Run Me!\n",
    "\n",
    "# Use `ipyturtle3` in place of the standard turtle\n",
    "import ipyturtle3 as turtle\n",
    "# Import necessary classes from `ipyturtle3`                          \n",
    "from ipyturtle3 import Canvas, TurtleScreen, Turtle \n",
    "\n",
    "# Create a Canvas for the `ipyturtle3` turtle to draw on\n",
    "myCanvas = Canvas(width=750, height=175)\n",
    "display(myCanvas)\n",
    "\n",
    "# Create a TurtleScreen similar to setting up the screen in standard turtle\n",
    "myTS = TurtleScreen(myCanvas)           # This is like turtle.Screen()\n",
    "myTS.clear()                            # Clear the screen to start fresh\n",
    "\n",
    "tina = Turtle(myTS)                     # Create a turtle named tina\n",
    "tina.shape('turtle')                    # Set the shape of the turtle to a turtle\n",
    "tina.speed(2)                           # Make the turtle move as fast, but not too fast.\n",
    "\n",
    "tina.hideturtle()                       # Hide the turtle while moving to start position\n",
    "tina.penup()                            # Lift the pen to move without drawing\n",
    "tina.goto(-300, -50)                    # Move tina to the left of the canvas\n",
    "tina.pendown()                          # Put the pen down to start drawing\n",
    "tina.showturtle()                       # Show the turtle again\n",
    "\n",
    "for i in range(4):                     # Loop 4 times\n",
    "    tina.forward(100)                  # Move forward 150 units\n",
    "    tina.left(90)                      # Turn left 90 degrees"
   ]
  },
  {
   "cell_type": "markdown",
   "metadata": {},
   "source": [
    "Now, Tina will move forward and turn left four times, drawing a square. The loop makes the code much cleaner and easier to understand!\n",
    "\n",
    "> **Tip:** Loops are a core concept in every programming language. Take your time to practice and experiment with them—understanding loops will help you solve problems more efficiently and write better code!"
   ]
  },
  {
   "cell_type": "markdown",
   "metadata": {},
   "source": [
    "### **Why Use Loops?**\n",
    "\n",
    "Instead of repeating the same instructions, loops let you tell Tina to do something multiple times automatically!\n",
    "\n",
    "Loops are powerful seeing that they:\n",
    "\n",
    "- **Save time** by enabling us to write less code and let the computer handle repetition.\n",
    "- **Reduce mistakes** since fewer repeated lines means fewer errors.\n",
    "- **Make updates easier** because when you change one part of your code, the loop applies it everywhere.\n",
    "\n",
    "### **How Do Loops Work?**\n",
    "\n",
    "Let’s look at this simple example of a `for` loop:"
   ]
  },
  {
   "cell_type": "code",
   "execution_count": null,
   "metadata": {},
   "outputs": [],
   "source": [
    "# Run Me!\n",
    "\n",
    "# A simple for loop example\n",
    "for i in range(4):                          # Loop will run 4 times from 0 to 3\n",
    "    print('Loop Iteration', i)              # This is because range(4) generates numbers 0, 1, 2, 3"
   ]
  },
  {
   "cell_type": "markdown",
   "metadata": {},
   "source": [
    "Here’s what’s happening:\n",
    "\n",
    "- `for i in range(4):` tells Python to repeat the indented code 4 times.\n",
    "- The variable `i` starts at 0 and goes up to 3 (so, 0, 1, 2, 3). \n",
    "- Each time the loop runs, it prints the current value of `i`.\n",
    "\n",
    "> **Note:** Indentation is important! The code that is indented under the `for` statement is what gets repeated."
   ]
  },
  {
   "cell_type": "markdown",
   "metadata": {},
   "source": [
    "## **Practicing with Loops**\n",
    "\n",
    "Loops are a powerful tool for automating repetitive tasks. Try running these examples to see how loops can be used in different ways!\n",
    "\n",
    "### **Drawing an Orange Square**"
   ]
  },
  {
   "cell_type": "code",
   "execution_count": null,
   "metadata": {},
   "outputs": [],
   "source": [
    "# Run Me!\n",
    "\n",
    "# Size of the square\n",
    "size = 20        \n",
    "# Loop will run 'size' times                                   \n",
    "for i in range(size):\n",
    "    # Print a row of 'size' orange squares\n",
    "    print('🟧' * size)                              "
   ]
  },
  {
   "cell_type": "markdown",
   "metadata": {},
   "source": [
    "Here’s what’s happening:\n",
    "\n",
    "- `for i in range(size):` tells Python to repeat the indented code `size` times.\n",
    "- The variable `i` starts at 0 and goes up to `size - 1` (so, for `size = 20`, it goes from 0 to 19).\n",
    "- Each time the loop runs, it prints a row of orange squares using `'🟧' * size`.\n",
    "\n",
    "> **Note:** This loop creates a square grid by printing `size` rows, each containing `size` orange squares. Try changing the value of `size` to see how the output changes!"
   ]
  },
  {
   "cell_type": "markdown",
   "metadata": {},
   "source": [
    "### **Drawing a Checkerboard Pattern**"
   ]
  },
  {
   "cell_type": "code",
   "execution_count": null,
   "metadata": {},
   "outputs": [],
   "source": [
    "# Run Me!\n",
    "\n",
    "# Define the size of the checkerboard\n",
    "size = 20\n",
    "\n",
    "# Loop through each row\n",
    "for row in range(size):\n",
    "    for col in range(size):\n",
    "        # If the sum of row and col is even, print a black circle\n",
    "        if (row + col) % 2 == 0:\n",
    "            print('⚫️', end='')\n",
    "        # Otherwise, print a white circle\n",
    "        else:\n",
    "            print('⚪️', end='')\n",
    "    # Go to the next line\n",
    "    print()"
   ]
  },
  {
   "cell_type": "markdown",
   "metadata": {},
   "source": [
    "Here’s what’s happening:\n",
    "Here’s what’s happening:\n",
    "\n",
    "- `for row in range(size):` loops through each row of the checkerboard, repeating `size` times.\n",
    "- Inside that, `for col in range(size):` loops through each column in the current row.\n",
    "- The condition `(row + col) % 2 == 0` checks if the sum of the row and column indices is even. If it is, it prints a black circle (`⚫️`); otherwise, it prints a white circle (`⚪️`).\n",
    "- `print()` at the end of the inner loop moves to the next line, creating a grid.\n",
    "\n",
    "> **Tip:** Nested loops are useful for working with grids or tables, like drawing patterns or processing 2D data. In this example, the outer loop handles rows and the inner loop handles columns, letting you control each cell in the grid individually."
   ]
  },
  {
   "cell_type": "markdown",
   "metadata": {},
   "source": [
    "### **Drawing an American Flag**"
   ]
  },
  {
   "cell_type": "code",
   "execution_count": null,
   "metadata": {},
   "outputs": [],
   "source": [
    "# Run Me!\n",
    "\n",
    "# Total number of rows in the flag\n",
    "flag_height = 13\n",
    "# Total number of columns in the flag                                        \n",
    "flag_width = 32                                         \n",
    "\n",
    "# Number of rows in the blue canton (top-left corner)\n",
    "canton_height = 7       \n",
    "# Number of columns in the blue canton                                \n",
    "canton_width = 12                                       \n",
    "\n",
    "# Loop through each row of the flag\n",
    "for row in range(flag_height):    \n",
    "    # Loop through each column in the current row                      \n",
    "    for col in range(flag_width):         \n",
    "        # Check if current cell is inside the canton\n",
    "        if row < canton_height and col < canton_width: \n",
    "            # Alternate stars and blue squares in the canton    \n",
    "            if (row + col) % 2 == 0:                    \n",
    "                # Print a star\n",
    "                print('⭐', end='')                     \n",
    "            else:\n",
    "                # Print a blue square\n",
    "                print('🟦', end='')                     \n",
    "        else:\n",
    "            # Alternate red and white stripes\n",
    "            if row % 2 == 0:\n",
    "                # Print a red stripe                            \n",
    "                print('🟥', end='')                     \n",
    "            else:\n",
    "                # Print a white stripe\n",
    "                print('⬜️', end='') \n",
    "    # Move to the next line after each row                               \n",
    "    print()                                             "
   ]
  },
  {
   "cell_type": "markdown",
   "metadata": {},
   "source": [
    "Try modifying these loops or creating your own to practice!"
   ]
  },
  {
   "cell_type": "markdown",
   "metadata": {},
   "source": [
    "Now, click the <span style=\"background-color: #0099ffff; color: white; padding: 2px 8px; border-radius: 4px;\">Next Lesson</span> button, open the file `20_Loop_with_Turtle.py`, and try running it!"
   ]
  }
 ],
 "metadata": {
  "kernelspec": {
   "display_name": "Python 3",
   "language": "python",
   "name": "python3"
  },
  "language_info": {
   "codemirror_mode": {
    "name": "ipython",
    "version": 3
   },
   "file_extension": ".py",
   "mimetype": "text/x-python",
   "name": "python",
   "nbconvert_exporter": "python",
   "pygments_lexer": "ipython3",
   "version": "3.13.5"
  },
  "syllabus": {
   "uid": "abX8sNwB"
  }
 },
 "nbformat": 4,
 "nbformat_minor": 2
}
