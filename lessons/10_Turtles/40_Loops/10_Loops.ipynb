{
  "cells": [
    {
      "cell_type": "markdown",
      "metadata": {},
      "source": [
        "# Loops\n",
        "\n",
        "Welcome to the world of loops! In this lesson, you'll discover how loops make programming easier and more powerful. Loops let you repeat automate repetitive tasks, so you can save time, write cleaner code, and solve problems more efficiently. By pairing loops with *Tina the Turtle*, you'll learn how to simplify your programs, reduce mistakes, and create amazing things with less effort!"
      ]
    },
    {
      "cell_type": "markdown",
      "metadata": {},
      "source": [
        "## What is a Loop?\n",
        "\n",
        "A <span title=\"A loop in programming is a structure that repeats a sequence of instructions until a certain condition is met.\" style=\"cursor: help\">**loop**</span> is a programming structure that allows you repeatedly execute a set of instructions until a certain condition is met. Instead of writing the same code over and over, you can use a loop to do the work for you. They can help you by making your code shorter and easier to read, making your code less likely to have mistakes.\n",
        "\n",
        "For example, in our first Tina the Turtle program, we had Tina draw a square. The code looked like this:\n",
        "\n",
        "```python\n",
        "import turtle                           # Tell Python we want to work with the turtle\n",
        "turtle.setup(600,600,0,0)               # Set the size of the window\n",
        "\n",
        "tina = turtle.Turtle()                  # Create a turtle named tina\n",
        "\n",
        "tina.shape('turtle')                    # Set the shape of the turtle to a turtle\n",
        "tina.speed(2)                           # Make the turtle move as fast, but not too fast. \n",
        "\n",
        "tina.forward(150)                       # Move tina forward by the forward distance\n",
        "tina.left(90)                           # Turn tina left by the left turn\n",
        "\n",
        "tina.forward(150)                       # Move tina forward by the forward distance\n",
        "tina.left(90)                           # Turn tina left by the left turn\n",
        "\n",
        "tina.forward(150)                       # Move tina forward by the forward distance\n",
        "tina.left(90)                           # Turn tina left by the left turn\n",
        "\n",
        "tina.forward(150)                       # Move tina forward by the forward distance\n",
        "tina.left(90)                           # Turn tina left by the left turn\n",
        "```\n",
        "\n",
        "Notice how the last two lines (`tina.forward(150)` and `tina.left(90)`) are repeated four times. This makes the code longer, harder to read, and more likely to have mistakes if you need to change something. "
      ]
    },
    {
      "cell_type": "markdown",
      "metadata": {},
      "source": [
        "### Why Use Loops?\n",
        "\n",
        "Wouldn't it be better if we could tell Tina to repeat the previous steps automatically? That's exactly what loops are for!\n",
        "\n",
        "Loops are useful because they:\n",
        "\n",
        "- **Save time:** You don’t have to write the same code over and over.\n",
        "- **Reduce errors:** Less repeated code means fewer chances to make mistakes.\n",
        "- **Make changes easier:** If you want to change something, you only have to change it in one place.\n",
        "\n",
        "### How Do Loops Work?\n",
        "\n",
        "Let’s look at this simple example of a `for` loop:"
      ]
    },
    {
      "cell_type": "code",
      "execution_count": null,
      "metadata": {},
      "outputs": [],
      "source": [
        "# Run Me!\n",
        "for i in range(4):                          # Loop will run 4 times from 0 to 3\n",
        "    print('Loop Iteration', i)              # This is because range(4) generates numbers 0, 1, 2, 3"
      ]
    },
    {
      "cell_type": "markdown",
      "metadata": {},
      "source": [
        "Here’s what’s happening:\n",
        "\n",
        "- `for i in range(4):` tells Python to repeat the indented code 4 times.\n",
        "- The variable `i` starts at 0 and goes up to 3 (so, 0, 1, 2, 3). \n",
        "- Each time the loop runs, it prints the current value of `i`.\n",
        "\n",
        "> **Note:** Indentation is important! The code that is indented under the `for` statement is what gets repeated."
      ]
    },
    {
      "cell_type": "markdown",
      "metadata": {},
      "source": [
        "## Using Loops with Tina the Turtle\n",
        "\n",
        "Instead of repeating the same lines, we can use a loop to make Tina draw a square:\n",
        "\n",
        "```python\n",
        "import turtle\n",
        "turtle.setup(600,600,0,0)\n",
        "tina = turtle.Turtle()\n",
        "tina.shape('turtle')\n",
        "tina.speed(2)\n",
        "\n",
        "for i in range(4):\n",
        "    tina.forward(150)\n",
        "    tina.left(90)\n",
        "```\n",
        "\n",
        "Now, Tina will move forward and turn left four times, drawing a square. The loop makes the code much cleaner and easier to understand!\n",
        "\n",
        "> **Tip:** Loops are a core concept in every programming language. Take your time to practice and experiment with them—understanding loops will help you solve problems more efficiently and write better code!"
      ]
    },
    {
      "cell_type": "code",
      "execution_count": null,
      "metadata": {},
      "outputs": [],
      "source": [
        "# Practice: Use a loop to count from 1 to 10\n"
      ]
    }
  ],
  "metadata": {
    "kernelspec": {
      "display_name": ".venv",
      "language": "python",
      "name": "python3"
    },
    "language_info": {
      "codemirror_mode": {
        "name": "ipython",
        "version": 3
      },
      "file_extension": ".py",
      "mimetype": "text/x-python",
      "name": "python",
      "nbconvert_exporter": "python",
      "pygments_lexer": "ipython3",
      "version": "3.13.5"
    },
    "syllabus": {
      "uid": "abX8sNwB"
    }
  },
  "nbformat": 4,
  "nbformat_minor": 2
}
