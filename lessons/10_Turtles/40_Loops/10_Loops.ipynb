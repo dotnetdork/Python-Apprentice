{
 "cells": [
  {
   "cell_type": "markdown",
   "metadata": {},
   "source": [
    "# **Loops**\n",
    "\n",
    "Welcome to the world of <span title=\"A loop in programming is a structure that repeats a sequence of instructions until a certain condition is met.\" style=\"cursor: help\">**loops**</span>! In this lesson, you'll discover how loops make programming easier and more powerful by allowing you to automate repetitive tasks, save time, write cleaner code, and solve problems more efficiently. By pairing loops with *Tina the Turtle*, you'll be able to simplify your programs, reduce mistakes, and create amazing things with less effort!\n",
    "\n",
    "> **Tip:** Take your time to practice using loops. They are a core concept in every programming language, and mastering them will greatly enhance your coding skills."
   ]
  },
  {
   "cell_type": "markdown",
   "metadata": {},
   "source": [
    "### **Why Use Loops?**\n",
    "\n",
    "Instead of repeating the same instructions over and over again. A loop will let you tell Tina to do something multiple times by using a simple command!\n",
    "\n",
    "Loops are super useful because they help us:\n",
    "\n",
    "- **Save time** by enabling us to write less code and let the computer handle repetition.\n",
    "- **Reduce mistakes** since fewer repeated lines means fewer errors.\n",
    "- **Make updates easier** because when you change one part of your code, the loop applies it everywhere.\n",
    "\n",
    "### **How Do Loops Work?**\n",
    "\n",
    "Let’s look at this simple example of a `for` loop:"
   ]
  },
  {
   "cell_type": "code",
   "execution_count": null,
   "metadata": {},
   "outputs": [],
   "source": [
    "# Run Me!\n",
    "\n",
    "# A simple for loop example\n",
    "for i in range(4):                          # Loop will run 4 times from 0 to 3\n",
    "    print('Loop Iteration', i)              # This is because range(4) generates numbers 0, 1, 2, 3"
   ]
  },
  {
   "cell_type": "markdown",
   "metadata": {},
   "source": [
    "The `for` loop tells Tina to repeat the lines that are indented under the `for` statement a specific number of times, while the `i` variable simply keeps track of the current iteration, and the `range(4)` function generates a sequence of numbers from 0 to 3 (so four iterations in total). Each time the loop runs, the variable `i` takes on the next value in that sequence (e.g., 0, then 1, then 2, then 3)."
   ]
  },
  {
   "cell_type": "markdown",
   "metadata": {},
   "source": [
    "## **Manual vs. Loop-Based Drawing with Tina**\n",
    "\n",
    "### **Drawing Shapes Without Loops**\n",
    "Now let's take a look at a repetitive Tina the Turtle program that draws a square and a triangle without using loops:"
   ]
  },
  {
   "cell_type": "code",
   "execution_count": null,
   "metadata": {},
   "outputs": [],
   "source": [
    "# Run Me!\n",
    "\n",
    "# Use `ipyturtle3` in place of the standard turtle\n",
    "import ipyturtle3 as turtle\n",
    "# Import necessary classes from `ipyturtle3`                          \n",
    "from ipyturtle3 import Canvas, TurtleScreen, Turtle \n",
    "\n",
    "# Create a Canvas for the `ipyturtle3` turtle to draw on\n",
    "myCanvas = Canvas(width=750, height=175)\n",
    "display(myCanvas)\n",
    "\n",
    "# Create a TurtleScreen similar to setting up the screen in standard turtle\n",
    "myTS = TurtleScreen(myCanvas)           # This is like turtle.Screen()\n",
    "myTS.clear()                            # Clear the screen to start fresh\n",
    "\n",
    "tina = Turtle(myTS)                     # Create a turtle named tina\n",
    "tina.shape('turtle')                    # Set the shape of the turtle to a turtle\n",
    "tina.speed(5)                           # Make the turtle move as fast, but not too fast.\n",
    "\n",
    "# Define a function to move the turtle to a specific start position\n",
    "def movetostart(x, y):\n",
    "    tina.hideturtle()                   # Hide the turtle while moving to start position\n",
    "    tina.penup()                        # Lift the pen to move without drawing\n",
    "    tina.goto(x, y)                     # Move tina to the specified position\n",
    "    tina.pendown()                      # Put the pen down to start drawing\n",
    "    tina.showturtle()                   # Show the turtle again\n",
    "\n",
    "# Uses the movetostart function\n",
    "movetostart(-300, -50)                  # Move tina to the left of the canvas\n",
    "\n",
    "# Drawing a square without using a loop\n",
    "tina.forward(100)                       # Move tina forward 100 units\n",
    "tina.left(90)                           # Turn tina left 90 degrees\n",
    "tina.forward(100)                       # Move tina forward 100 units\n",
    "tina.left(90)                           # Turn tina left 90 degrees\n",
    "tina.forward(100)                       # Move tina forward 100 units\n",
    "tina.left(90)                           # Turn tina left 90 degrees\n",
    "tina.forward(100)                       # Move tina forward 100 units\n",
    "tina.left(90)                           # Turn tina left 90 degrees\n",
    "\n",
    "movetostart(-150, -50)                  # Move tina to the center-left of the canvas\n",
    "\n",
    "# Drawing a triangle without using a loop\n",
    "tina.forward(120)                       # Move forward 120 units\n",
    "tina.left(120)                          # Turn left 120 degrees\n",
    "tina.forward(120)                       # Move forward 120 units\n",
    "tina.left(120)                          # Turn left 120 degrees\n",
    "tina.forward(120)                       # Move forward 120 units\n",
    "tina.left(120)                          # Turn left 120 degrees\n",
    "\n",
    "# Now imagine how confusing it would be if we had `ipyturtle3` move the turtle 36 times to draw a star!"
   ]
  },
  {
   "cell_type": "markdown",
   "metadata": {},
   "source": [
    "Did you notice how many times `tina.forward()` and `tina.left()` are repeated? This makes the code longer, harder to read, and more likely to have mistakes if you need to change something.\n",
    "\n",
    "Let’s see how we can use loops to make this code cleaner and easier to manage. Maybe we can even add more shapes without making the code super long!"
   ]
  },
  {
   "cell_type": "markdown",
   "metadata": {},
   "source": [
    "### **Using Loops To Draw Shapes**\n",
    "\n",
    "Instead of repeating the same lines, we can use a loop to make Tina draw a square, triangle, and add in that star, like this:"
   ]
  },
  {
   "cell_type": "code",
   "execution_count": 3,
   "metadata": {},
   "outputs": [
    {
     "data": {
      "application/vnd.jupyter.widget-view+json": {
       "model_id": "04aa1c62452344efbd00d0e084582308",
       "version_major": 2,
       "version_minor": 0
      },
      "text/plain": [
       "Canvas(height=175, width=750)"
      ]
     },
     "metadata": {},
     "output_type": "display_data"
    }
   ],
   "source": [
    "# Run Me!\n",
    "   \n",
    "# Use `ipyturtle3` in place of the standard turtle\n",
    "import ipyturtle3 as turtle\n",
    "# Import necessary classes from `ipyturtle3`                          \n",
    "from ipyturtle3 import Canvas, TurtleScreen, Turtle \n",
    "\n",
    "# Create a Canvas for the `ipyturtle3` turtle to draw on\n",
    "myCanvas = Canvas(width=750, height=175)\n",
    "display(myCanvas)\n",
    "\n",
    "# Create a TurtleScreen similar to setting up the screen in standard turtle\n",
    "myTS = TurtleScreen(myCanvas)          # This is like turtle.Screen()\n",
    "myTS.clear()                           # Clear the screen to start fresh\n",
    "\n",
    "# Set up Tina the Turtle\n",
    "tina = Turtle(myTS)                    # Create a turtle named tina\n",
    "tina.shape('turtle')                   # Set the shape of the turtle to a turtle\n",
    "tina.speed(5)                          # Make the turtle move fast, but not too fast\n",
    "\n",
    "# Define a function to move the turtle to a specific start position\n",
    "def movetostart(x, y):\n",
    "    tina.hideturtle()                   # Hide the turtle while moving to start position\n",
    "    tina.penup()                        # Lift the pen to move without drawing\n",
    "    tina.goto(x, y)                     # Move tina to the specified position\n",
    "    tina.pendown()                      # Put the pen down to start drawing\n",
    "    tina.showturtle()                   # Show the turtle again\n",
    "\n",
    "movetostart(-300, -50) # Uses coordinates to move tina to the left of the canvas\n",
    "\n",
    "# Draw a square using a loop\n",
    "for i in range(4):                     # Loop 4 times\n",
    "    tina.forward(100)                  # Move forward 100 units\n",
    "    tina.left(90)                      # Turn left 90 degrees\n",
    "\n",
    "movetostart(-150, -50) # Uses coordinates to move tina to the center-left of the canvas\n",
    "\n",
    "# Draw a triangle using a loop\n",
    "for i in range(3):                     # Loop 3 times\n",
    "    tina.forward(120)                  # Move forward 120 units\n",
    "    tina.left(120)                     # Turn left 120 degrees\n",
    "\n",
    "movetostart(0, 0) # Uses coordinates to move tina to the center-right of the canvas\n",
    "\n",
    "tina.speed(9)                          # Set speed to 9 for a faster star drawing\n",
    "\n",
    "# Draw a star pattern using a loop\n",
    "for i in range(36):                    # Loop 36 times\n",
    "    tina.forward(110)                  # Move forward 110 units\n",
    "    tina.left(170)                     # Turn left 170 degrees"
   ]
  },
  {
   "cell_type": "markdown",
   "metadata": {},
   "source": [
    "Now, Tina will move forward and turn left four times, drawing a square. The loop makes the code much cleaner and easier to understand!\n",
    "\n",
    "<details style=\"cursor: pointer;\">\n",
    "  <summary><strong>Click here for a detailed explanation</strong></summary>\n",
    "\n",
    "Here's what’s happening:\n",
    "- **Square** repeats `tina.forward(100)` and `tina.left(90)` *4* times.\n",
    "- **Triangle** repeats `tina.forward(120)` and `tina.left(120)` *3* times.\n",
    "- **Star** repeats `tina.forward(100)` and `tina.left(170)` *36* times.\n",
    "\n",
    "For example, if you wanted Tina to draw a hexagon (they have 6 sides), you would only need to change the `range(4)` to `range(6)` and the angle from `90` to `60`.\n",
    "\n",
    "```python\n",
    "for i in range(6):          # Repeat 6 times for a hexagon\n",
    "    tina.forward(150)       # Move forward 150 units\n",
    "    tina.left(60)           # Turn left 60 degrees\n",
    "```\n",
    "</details>\n",
    "<br>\n",
    "\n",
    "> **Tip:** Loops are a core concept in every programming language. Take your time to practice and experiment with them—understanding loops will help you solve problems more efficiently and write better code!"
   ]
  },
  {
   "cell_type": "markdown",
   "metadata": {},
   "source": [
    "## **Practicing with Loops**\n",
    "\n",
    "Try running these examples to see how loops can be used in different ways!\n",
    "\n",
    "### **Drawing an Orange Square**"
   ]
  },
  {
   "cell_type": "code",
   "execution_count": null,
   "metadata": {},
   "outputs": [],
   "source": [
    "# Run Me!\n",
    "\n",
    "# Size of the square\n",
    "size = 10        \n",
    "# Loop will run 'size' times                                   \n",
    "for i in range(size):\n",
    "    # Print a row of 'size' orange squares\n",
    "    print('🟧' * size)                              "
   ]
  },
  {
   "cell_type": "markdown",
   "metadata": {},
   "source": [
    "<details style=\"cursor: pointer;\">\n",
    "  <summary><strong>Click here for a detailed explanation</strong></summary>\n",
    "\n",
    "Here’s what’s happening:\n",
    "- `for i in range(size):` tells Python to repeat the indented code `size` times.\n",
    "- The variable `i` starts at 0 and goes up to `size - 1` (so, for `size = 20`, it goes from 0 to 19).\n",
    "- Each time the loop runs, it prints a row of orange squares using `'🟧' * size`.\n",
    "</details>\n",
    "<br>\n",
    "\n",
    "> **Note:** This loop creates a square grid by printing `size` rows, each containing `size` orange squares. Try changing the value of `size` to see how the output changes!"
   ]
  },
  {
   "cell_type": "markdown",
   "metadata": {},
   "source": [
    "### **Drawing a Checkerboard Pattern**"
   ]
  },
  {
   "cell_type": "code",
   "execution_count": null,
   "metadata": {},
   "outputs": [],
   "source": [
    "# Run Me!\n",
    "\n",
    "# Define the size of the checkerboard\n",
    "size = 10\n",
    "\n",
    "# Loop through each row\n",
    "for row in range(size):\n",
    "    # Loop through each column in the current row\n",
    "    for col in range(size):\n",
    "        # If the sum of row and col is even, print a black circle\n",
    "        if (row + col) % 2 == 0:\n",
    "            print('⚫️', end='')\n",
    "        # Otherwise, print a white circle\n",
    "        else:\n",
    "            print('⚪️', end='')\n",
    "    # Go to the next line\n",
    "    print()"
   ]
  },
  {
   "cell_type": "markdown",
   "metadata": {},
   "source": [
    "<details style=\"cursor: pointer;\">\n",
    "  <summary><strong>Click here for a detailed explanation</strong></summary>\n",
    "\n",
    "Here’s what’s happening:\n",
    "- `for row in range(size):` loops through each row of the checkerboard, repeating `size` times.\n",
    "- Inside that, `for col in range(size):` loops through each column in the current row.\n",
    "- The condition `(row + col) % 2 == 0` checks if the sum of the row and column indices is even. If it is, it prints a black circle (`⚫️`); otherwise, it prints a white circle (`⚪️`).\n",
    "- `print()` at the end of the inner loop moves to the next line, creating a grid.\n",
    "</details>\n",
    "<br>\n",
    "\n",
    "> **Tip:** Nested loops are great for creating patterns like checkerboards. The outer loop handles the rows, while the inner loop handles the columns, allowing you to control each cell in the grid."
   ]
  },
  {
   "cell_type": "markdown",
   "metadata": {},
   "source": [
    "### **Drawing an American Flag**"
   ]
  },
  {
   "cell_type": "code",
   "execution_count": null,
   "metadata": {},
   "outputs": [],
   "source": [
    "# Run Me!\n",
    "\n",
    "# Total number of rows in the flag\n",
    "flag_height = 15\n",
    "# Total number of columns in the flag                                        \n",
    "flag_width = 32                                         \n",
    "\n",
    "# Number of rows in the blue canton (top-left corner)\n",
    "canton_height = 9       \n",
    "# Number of columns in the blue canton                                \n",
    "canton_width = 11                                       \n",
    "\n",
    "# Loop through each row of the flag\n",
    "for row in range(flag_height):    \n",
    "    # Loop through each column in the current row                      \n",
    "    for col in range(flag_width):         \n",
    "        # Check if current cell is inside the canton\n",
    "        if row < canton_height and col < canton_width: \n",
    "            # Alternate stars and blue squares in the canton    \n",
    "            if (row + col) % 2 == 0:                    \n",
    "                # Print a star\n",
    "                print('⭐', end='')                     \n",
    "            else:\n",
    "                # Print a blue square\n",
    "                print('🟦', end='')                     \n",
    "        else:\n",
    "            # Alternate red and white stripes\n",
    "            if row % 2 == 0:\n",
    "                # Print a red stripe                            \n",
    "                print('🟥', end='')                     \n",
    "            else:\n",
    "                # Print a white stripe\n",
    "                print('⬜️', end='')\n",
    "    # Move to the next line after each row                               \n",
    "    print()                                             "
   ]
  },
  {
   "cell_type": "markdown",
   "metadata": {},
   "source": [
    "<details style=\"cursor: pointer;\">\n",
    "  <summary><strong>Click here for a detailed explanation</strong></summary>\n",
    "\n",
    "Here’s what’s happening:\n",
    "- `for row in range(flag_height):` loops through each row of the flag.\n",
    "- Inside that, `for col in range(flag_width):` loops through each column in the current row.\n",
    "- The first `if` statement checks if the current position is within the blue canton (top-left corner). If it is, it prints a blue square (`🟦`).\n",
    "- The `elif` statement checks if the current row is even or odd to alternate between red (`🟥`) and white (`⬜️`) stripes.\n",
    "- `print()` at the end of the inner loop moves to the next line after completing a row, creating the full flag pattern.\n",
    "</details>\n",
    "<br>\n",
    "\n",
    "> **Tip:** You can use if-elif-else statements inside loops to create complex patterns and designs, like the American flag. "
   ]
  },
  {
   "cell_type": "markdown",
   "metadata": {},
   "source": [
    "Now, click the <span style=\"background-color: #0099ffff; color: white; padding: 2px 8px; border-radius: 4px;\">Next Lesson</span> button, open the file `20_Loop_with_Turtle.py`, and try running it!"
   ]
  }
 ],
 "metadata": {
  "kernelspec": {
   "display_name": "Python 3",
   "language": "python",
   "name": "python3"
  },
  "language_info": {
   "codemirror_mode": {
    "name": "ipython",
    "version": 3
   },
   "file_extension": ".py",
   "mimetype": "text/x-python",
   "name": "python",
   "nbconvert_exporter": "python",
   "pygments_lexer": "ipython3",
   "version": "3.13.5"
  },
  "syllabus": {
   "uid": "abX8sNwB"
  }
 },
 "nbformat": 4,
 "nbformat_minor": 2
}
