{
 "cells": [
  {
   "cell_type": "markdown",
   "metadata": {},
   "source": [
    "# **What Can Tina Do?**\n",
    "\n",
    "In the last lesson, you met Tina the Turtle in a program that might have looked a little complicated. Don’t get intimidated—Tina’s magic 🧙‍♂️ is actually very simple and can be broken down into basic steps!\n",
    "\n",
    "In the next program, `02c_Squares_and_Circles`, you’ll see a much simpler example. Tina will only draw a square and a circle, your task will be to read the program, figure out what it does, and make some fun changes.\n",
    "\n",
    "But before we move ahead, let’s break down how this magic ✨ works!\n",
    "\n",
    "## **How Tina Follows Commands**\n",
    "\n",
    "Here is what some of the program will look like with <span title=\"Comments start with a '#' and explain what the code does\" style=\"cursor: help;\">comments</span> to explain what each line does: \n",
    "```python\n",
    "tina = turtle.Turtle()                  # Make a turtle named tina\n",
    "tina.pencolor('blue')                   # Change tina's pen color to blue\n",
    "tina.forward(200)                       # Move tina forward by 200 steps\n",
    "tina.right(90)                          # Turn tina right by 90 degrees\n",
    "```\n",
    "\n",
    "- The code before the `#` is a *command* — it tells Tina exactly what action to perform.\n",
    "- The text after the `#` is a *comment* — it explains what the command does, but does not affect the program.\n",
    "\n",
    "## **Assignment**\n",
    "\n",
    "Take a look at the steps below, and when you’re ready, move on to the <span style=\"background-color: #0099ffff; color: white; padding: 2px 8px; border-radius: 4px;\"><strong>Next Lesson</strong></span> and keep exploring  what Tina can do!\n",
    "\n",
    "1. **Run the program** called `02c_Squares_and_Circles` to see what Tina draws.\n",
    "2. **Read the code.** For each line, try to guess what Tina will do. (The comments will help!)\n",
    "3. **Change the program:**\n",
    "    - Make Tina draw a square and a circle of different sizes and colors.\n",
    "    - Try changing the numbers and colors in the commands to see what happens!\n",
    "4. **Run the program again** and see how Tina’s drawing changes.\n",
    "\n",
    "> **Tip:** If you’re not sure what a command does, try changing it and running the program again. Playing and experimenting is a great way to learn!"
   ]
  }
 ],
 "metadata": {
  "kernelspec": {
   "display_name": "Python 3",
   "language": "python",
   "name": "python3"
  },
  "language_info": {
   "name": "python",
   "version": "3.12.11"
  },
  "syllabus": {
   "uid": "7tUP3zAZ"
  }
 },
 "nbformat": 4,
 "nbformat_minor": 2
}
