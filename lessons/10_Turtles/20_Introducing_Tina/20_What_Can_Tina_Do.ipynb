{
 "cells": [
  {
   "cell_type": "markdown",
   "metadata": {},
   "source": [
    "# **What Can Tina Do?**\n",
    "\n",
    "In the last lesson, you met Tina the Turtle in a program that might have looked a little complicated. Don’t get intimidated—Tina’s magic 🧙‍♂️ is actually very simple and can be broken down into basic steps!\n",
    "\n",
    "In the next program, `Squares_and_Circles.py`, you’ll see a much simpler example. Tina will only draw a square and a circle, your task will be to read the program, figure out what it does, and make some fun changes.\n",
    "\n",
    "But before we move ahead, let’s break down how this magic ✨ works!\n",
    "\n",
    "### **How Tina Follows Commands**\n",
    "\n",
    "Here is what some of the program will look like with <span title=\"Comments start with a '#' and explain what the code does\" style=\"cursor: help;\">comments</span> to explain what each line does:\n",
    "\n",
    "```python\n",
    "tina = turtle.Turtle()                  # Make a turtle named tina\n",
    "tina.pencolor('blue')                   # Change tina's pen color to blue\n",
    "tina.forward(200)                       # Move tina forward by 200 steps\n",
    "tina.right(90)                          # Turn tina right by 90 degrees\n",
    "```\n",
    "\n",
    "- The code *before* the `#` is a **command** — it’s an instruction that tells Tina exactly what to do, such as moving forward or changing color.\n",
    "- The text *after* the `#` is a **comment** — it’s a note for humans that explains what the command does. \n",
    "\n",
    "> **Tip:** Comments are ignored by Python and don’t affect how the program runs."
   ]
  },
  {
   "cell_type": "markdown",
   "metadata": {},
   "source": [
    "## **Seeking Additional Information**\n",
    "\n",
    "Learning to program with Python's Turtle graphics is fun and creative! One of the best habits you can develop is regularly consulting official documentation and tutorials. This helps you understand commands, discover new features, and solve problems more efficiently. Here’s a detailed guide on how to find and use Python Turtle documentation.\n",
    "\n",
    "### **How to Find Python Turtle Documentation**\n",
    "\n",
    "1. **Use a Search Engine** by opening your preferred search engine (Google, Bing, DuckDuckGo, etc.).\n",
    "\n",
    "2. **Enter Your Query** by typing keywords such as `python turtle documentation`, `python turtle commands`, or specific questions like `how to draw a circle with turtle in python`.\n",
    "\n",
    "3. **Visit Official Sources** and look for links to the [Python Turtle documentation](https://docs.python.org/3/library/turtle.html) or other reputable sites. The official Python docs are usually among the top results and provide comprehensive information.\n",
    "\n",
    "4. **Explore Tutorials and Examples** on websites and forums (such as Real Python, GeeksforGeeks, Stack Overflow, and YouTube) that offer step-by-step guides, video tutorials, and sample code. These resources can help you understand how commands work in real programs.\n",
    "\n",
    "5. **Bookmark Useful Pages** so you can save helpful documentation, tutorials, or example projects for quick reference as you continue learning.\n",
    "\n",
    "6. **Read API References** in the official documentation, which includes an API reference page that lists all the available Turtle methods (like `forward()`, `right()`, `pencolor()`, etc.), their parameters, and example usage.\n",
    "\n",
    "7. **Check Community Q&A** if you encounter an error or want to achieve a specific effect, as searching forums like Stack Overflow can provide solutions and explanations from other programmers.\n",
    "\n",
    "### **Why Consulting Documentation Is Essential**\n",
    "\n",
    "- **Learn Correct Syntax** because documentation shows the exact way to use commands and functions, helping you avoid mistakes and understand how each function works.\n",
    "\n",
    "- **Discover New Features** since you might find commands or options you didn’t know existed, allowing you to create more interesting and complex drawings.\n",
    "\n",
    "- **Troubleshoot Problems** if your code isn’t working as expected, as documentation and community forums often have solutions, explanations, and troubleshooting tips.\n",
    "\n",
    "- **Build Independence** by regularly searching for answers, which helps you become a more confident and resourceful programmer, able to solve problems on your own.\n",
    "\n",
    "- **Stay Updated** because documentation is updated as Python evolves, so checking it helps you learn about new features and best practices.\n",
    "\n",
    "### **Extra Ways To Use Documentation Effectively**\n",
    "\n",
    "- **Try Out Examples** by copying and running example code from the documentation to see how it works. Experiment by changing parameters and observing the results.\n",
    "\n",
    "- **Use the Search Feature** on most documentation sites, which have a search bar you can use to quickly find information about specific commands or topics.\n",
    "\n",
    "- **Read the Introduction** at the beginning of the documentation, which often explains how to set up Turtle graphics and provides an overview of its capabilities.\n",
    "\n",
    "> **Tip:** Whenever you’re unsure about a command or want to try something new, searching for documentation or examples is one of the best ways to learn and grow as a programmer. The more you explore, the more creative and confident you’ll become!\n",
    "\n",
    "<details style=\"cursor: pointer;\">\n",
    "<br>\n",
    "  <summary><strong>Click Here To View The Official Python Turtle Documentation</strong></summary>\n",
    "  <iframe src=\"https://docs.python.org/3/library/turtle.html\"\n",
    "          width=\"100%\" height=\"600\"></iframe>\n",
    "</details>"
   ]
  },
  {
   "cell_type": "markdown",
   "metadata": {},
   "source": [
    "\n",
    "## **Assignment**\n",
    "\n",
    "Take a look at the steps below, and when you’re ready, move on to the <span style=\"background-color: #0099ffff; color: white; padding: 2px 8px; border-radius: 4px;\">Next Lesson</span> and keep exploring  what Tina can do!\n",
    "\n",
    "1. **Run the program** called `Squares_and_Circles.py` to see what Tina draws.\n",
    "2. **Read the code** for each line, and try to guess what Tina will do (The comments will help!).\n",
    "3. **Change the program** to draw a square and a circle of different sizes and colors, experiment with the commands, and run it again to see the results.\n",
    "4. **Run the program again** and see how Tina’s drawing changes.\n",
    "\n",
    "> **Tip:** If you’re not sure what a command does, try changing it and running the program again. Experimentation is a great way to learn!"
   ]
  }
 ],
 "metadata": {
  "kernelspec": {
   "display_name": "Python 3",
   "language": "python",
   "name": "python3"
  },
  "language_info": {
   "name": "python",
   "version": "3.13.5"
  },
  "syllabus": {
   "uid": "7tUP3zAZ"
  }
 },
 "nbformat": 4,
 "nbformat_minor": 2
}
