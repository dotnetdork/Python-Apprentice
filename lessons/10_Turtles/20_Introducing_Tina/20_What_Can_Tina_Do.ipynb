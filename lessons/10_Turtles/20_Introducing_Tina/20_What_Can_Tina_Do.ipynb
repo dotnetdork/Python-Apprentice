{
 "cells": [
  {
   "cell_type": "markdown",
   "metadata": {},
   "source": [
    "# **What Can Tina Do?**\n",
    "\n",
    "In the last lesson, you met Tina the Turtle in a program that might have looked a little complicated. Don’t get intimidated—Tina’s magic 🧙‍♂️ is actually very simple and can be broken down into basic steps!\n",
    "\n",
    "In the next program, `Squares_and_Circles.py`, you’ll see a much simpler example. Tina will only draw a square and a circle, your task will be to read the program, figure out what it does, and make some fun changes.\n",
    "\n",
    "But before we move ahead, let’s break down how this magic ✨ works!"
   ]
  },
  {
   "cell_type": "markdown",
   "metadata": {},
   "source": [
    "\n",
    "## **How Tina Follows Commands**\n",
    "\n",
    "Here is what some of the program will look like with <span title=\"Comments start with a '#' and explain what the code does\" style=\"cursor: help;\">comments</span> to explain what each line does:"
   ]
  },
  {
   "cell_type": "markdown",
   "metadata": {},
   "source": [
    "```python\n",
    "tina = turtle.Turtle()                  # Make a turtle named tina\n",
    "tina.pencolor('blue')                   # Change tina's pen color to blue\n",
    "tina.forward(200)                       # Move tina forward by 200 steps\n",
    "tina.right(90)                          # Turn tina right by 90 degrees\n",
    "```"
   ]
  },
  {
   "cell_type": "markdown",
   "metadata": {},
   "source": [
    "- The code *before* the `#` is a *command* — it tells Tina exactly what action to perform.\n",
    "- The text *after* the `#` is a *comment* — it explains what the command does, but does not affect the program."
   ]
  },
  {
   "cell_type": "markdown",
   "metadata": {},
   "source": [
    "\n",
    "## **Python Command Cheatsheet**\n",
    "\n",
    "This section is a handy cheat sheet listing the most important commands and functions used in the `Meet_Tina.py` program. It gives you quick explanations for each command, so you can easily look up what they do while reading or editing the code. Use this reference to help you understand Tina's actions and experiment confidently with your own changes."
   ]
  },
  {
   "cell_type": "markdown",
   "metadata": {},
   "source": [
    "#### **General Python Keywords & Functions**\n",
    "```python\n",
    "import                               # Brings an entire library of code into your program.\n",
    "from ... import                      # Brings specific functions from a library into your program.\n",
    "def                                  # Defines a new function that you can call later.\n",
    "return                               # Sends a value back from a function.\n",
    "for ... in                           # Creates a loop to repeat a block of code for each item in a sequence.\n",
    "range()                              # Generates a sequence of numbers, often used in loops.\n",
    "```"
   ]
  },
  {
   "cell_type": "markdown",
   "metadata": {},
   "source": [
    "#### **Math Library Functions**\n",
    "```python\n",
    "radians()                            # Converts an angle from degrees to radians (for trigonometric functions).\n",
    "tan()                                # Calculates the tangent of an angle (which must be in radians).\n",
    "```"
   ]
  },
  {
   "cell_type": "markdown",
   "metadata": {},
   "source": [
    "#### **Turtle Graphics Commands**\n",
    "```python\n",
    "turtle.setup()                       # Sets the size and position of the turtle's drawing window.\n",
    "turtle.Turtle()                      # Creates a new turtle object to draw with.\n",
    "turtle.exitonclick()                 # Pauses the program, waiting for a mouse click on the window to close it.\n",
    "speed()                              # Sets the turtle's animation speed (e.g., 'fastest', 'slow', or 1-10).\n",
    "penup()                              # Lifts the pen, so the turtle moves without drawing.\n",
    "goto()                               # Moves the turtle to an absolute (x, y) coordinate.\n",
    "pendown()                            # Puts the pen down, so the turtle draws when it moves.\n",
    "begin_fill()                         # Marks the starting point of a shape to be filled with color.\n",
    "end_fill()                           # Fills the shape drawn since begin_fill() was called.\n",
    "pencolor()                           # Sets the color of the turtle's pen (the outline of shapes).\n",
    "fillcolor()                          # Sets the color that will be used to fill a shape.\n",
    "setheading()                         # Sets the turtle's orientation to a specific angle (0 is east).\n",
    "forward()                            # Moves the turtle forward by a specific distance.\n",
    "backward()                           # Moves the turtle backward by a specific distance.\n",
    "right()                              # Turns the turtle to its right by a specific angle.\n",
    "left()                               # Turns the turtle to its left by a specific angle.\n",
    "circle()                             # Draws a circle with a given radius.\n",
    "write()                              # Writes text on the screen at the turtle's current position.\n",
    "```"
   ]
  },
  {
   "cell_type": "markdown",
   "metadata": {},
   "source": [
    "\n",
    "## **Assignment**\n",
    "\n",
    "Take a look at the steps below, and when you’re ready, move on to the <span style=\"background-color: #0099ffff; color: white; padding: 2px 8px; border-radius: 4px;\">Next Lesson</span> and keep exploring  what Tina can do!\n",
    "\n",
    "1. **Run the program** called `Squares_and_Circles.py` to see what Tina draws.\n",
    "2. **Read the code** for each line, and try to guess what Tina will do (The comments will help!).\n",
    "3. **Change the program** to draw a square and a circle of different sizes and colors, experiment with the commands, and run it again to see the results.\n",
    "4. **Run the program again** and see how Tina’s drawing changes.\n",
    "\n",
    "> **Tip:** If you’re not sure what a command does, try changing it and running the program again. Experimentation is a great way to learn!"
   ]
  }
 ],
 "metadata": {
  "kernelspec": {
   "display_name": "Python 3",
   "language": "python",
   "name": "python3"
  },
  "language_info": {
   "name": "python",
   "version": "3.13.5"
  },
  "syllabus": {
   "uid": "7tUP3zAZ"
  }
 },
 "nbformat": 4,
 "nbformat_minor": 2
}
