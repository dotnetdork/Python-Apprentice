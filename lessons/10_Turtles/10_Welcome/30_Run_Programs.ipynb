{
 "cells": [
  {
   "cell_type": "markdown",
   "metadata": {},
   "source": [
    "# Running Programs\n",
    "\n",
    "You can run Python in two main ways: using Python files or Notebooks.\n",
    "\n",
    "* **Notebook files** end with `.ipynb`. These are special because you can read them and also run code inside them!\n",
    "* **Python files** end with `.py`. You can run these by clicking the ▶️ play button.\n",
    "\n",
    "## Run Notebook Code Cells\n",
    "\n",
    "This file is a Notebook. If you're using Visual Studio Code, you'll see a <span style=\"background-color: #000000ff; color: white; padding: 3px 4px; border-radius: 4px;\">⏩ Run All</span> button at the top, and some code blocks will have a ▶️ button on the left.\n",
    "\n",
    "Try running the code below! Just move your mouse over the code cell and click the ▶️ button."
   ]
  },
  {
   "cell_type": "code",
   "execution_count": 5,
   "metadata": {},
   "outputs": [
    {
     "name": "stdout",
     "output_type": "stream",
     "text": [
      "Hello 👋 World 🌎 ! Today is 2025-08-20\n"
     ]
    }
   ],
   "source": [
    "import datetime\n",
    "\n",
    "date = datetime.date.today() # Get the Date\n",
    "\n",
    "s = F\"Hello 👋 World 🌎 ! Today is\" # Make a string with a message and the date\n",
    "\n",
    "print(s, date) # Print the string. "
   ]
  },
  {
   "cell_type": "markdown",
   "metadata": {},
   "source": [
    "Here’s what the code cell looks like with the run button. Try it out!\n",
    "\n",
    "<img src=\"https://images.jointheleague.org/vscode/run_cell.png\" height=\"auto\" width=\"100%\">"
   ]
  },
  {
   "cell_type": "markdown",
   "metadata": {},
   "source": [
    "### Setting Up The Interpreter (If that does not work)\n",
    "\n",
    "<div style=\"font-size: smaller; color: #b8b8b8ff;\"><em>Note: If your code ran fine after pressing the play button you can safely skip this section and move on to <span style=\"font-size: smaller; color: #fafafaff;\">What is a Cell?</span></em></div>\n",
    "\n",
    "The first time you press the ▶️ button you might notice that nothing happens. Don’t worry! Technically something did, you just were not able to see it. This is because you still need to pick which interpreter (or version) for Python to use.\n",
    "\n",
    "Look at the top of Visual Studio Code for a box that looks like this <img style=\"vertical-align: middle; height: 2.2em; width: auto;\" src=\"https://i.ibb.co/7dd8fYhp/Screenshot-2025-08-20-183631.png\">, and click on it. \n",
    "\n",
    "This should have made a dropdown appear in the top-middle of your editor, as shown below:\n",
    "\n",
    "<img src=\"https://images.jointheleague.org/vscode/select_python.png\" height=\"auto\" width=\"100%\">\n",
    "\n",
    "Now all you need to do is click on a Python option from the list (look for one with a ★ or .venv in the name) and try running the code again!\n",
    "\n",
    "<img src=\"https://images.jointheleague.org/vscode/select_venv.png\" height=\"auto\" width=\"75%\">\n",
    "<div></div><!--This is just for spacing-->\n",
    "<div style=\"font-size: smaller; color: #b8b8b8ff;\"><em>Note: You’ll need to pick a Python interpreter every time you open a new notebook.</em></div>"
   ]
  },
  {
   "cell_type": "markdown",
   "metadata": {},
   "source": [
    "## What is a Cell?\n",
    "A \"Cell\" is just a box where you can write code. You can run a code cell by clicking the ▶️ button or by pressing Shift + Enter on your keyboard.\n",
    "\n",
    "Here are some tips for using cells:\n",
    "\n",
    "* Click inside a cell to change or add code. When you do, you'll see a blue bar and outline.\n",
    "* To move a cell up or down, press the Esc key first. This puts the cell in \"Command Mode.\"\n",
    "* When a cell is active, look for a small menu in the top right for more options. \n",
    "\n",
    "## Try it yourself!\n",
    "\n",
    "<span><strong>Step 1.</strong> Copy the Hello World code from above into the cell below, or type `print(\"Hello World!\")`</span><br>\n",
    "<span><strong>Step 2.</strong> Change the string inside the quotation marks so that it also prints your name (e.g., change \"Hello World!\" to \"Your Name\").</span><br>\n",
    "<span><strong>Step 3.</strong> Now all you have to do is press the play button and run the code!</span><br>"
   ]
  },
  {
   "cell_type": "code",
   "execution_count": 8,
   "metadata": {},
   "outputs": [],
   "source": [
    "# Write your Hello World code below\n",
    "\n"
   ]
  },
  {
   "cell_type": "markdown",
   "metadata": {},
   "source": [
    "## Tips on running `.py` programs\n",
    "\n",
    "Files that end with `.py` are regular Python programs. You’ll use these a lot! In the next lesson, we will try running a program called `02_Meet_Tina.py`.\n",
    "\n",
    "There are a few ways to run it. The easiest is to look in the lower left for the Lesson Browser, it looks like this:\n",
    "\n",
    "<img src=\"https://images.jointheleague.org/vscode/lesson-browser.png\" width=\"50%\">\n",
    "\n",
    "Then all you need to do is click the <span style=\"background-color: green; color: white; padding: 2px 8px; border-radius: 4px;\">▶ Run</span> and <span style=\"background-color: #b62525ff; color: white; padding: 2px 8px; border-radius: 4px;\">⏹ Stop</span> buttons. You can also click \"Next Lesson\" to move on.\n",
    "\n",
    "### Use the ▶️ button\n",
    "\n",
    "Another way:\n",
    "\n",
    "1. Click the file name to open it.\n",
    "2. In the top right, look for these icons <img style=\"vertical-align:middle\" src=\"https://images.jointheleague.org/vscode/run_buttons.png\" height=\"25px\" > and click the ▶️ run button.\n",
    "3. When you’re done, close the window.\n",
    "\n",
    "### Hit the F5 Key\n",
    "\n",
    "You can also run the program by pressing F5. (On a Mac, hold the fn key and press F5.) This opens the debugger, which helps you find problems in your code.\n",
    "\n",
    "The first time you use F5, you’ll see a window that says \"Select Debugger.\" Pick \"Python Debugger,\" then \"Python File. Debug currently active Python file.\" You’ll see the debug bar:\n",
    "\n",
    "<center><img src=\"https://images.jointheleague.org/vscode/debug_bar.png\" width=\"300px\"></center>\n",
    "\n",
    "We’ll learn more about the debugger later. For now, just know: press the red square to stop your program, and the green circle to run it again.\n",
    "\n",
    "<div class=\"alert alert-warning\">\n",
    "You can’t run a program again until you stop the one that’s running. If you see a turtle window open, close it (or click the X in the corner).\n",
    "<br>\n",
    "If you’re using the debugger, click the red square in the debug bar.\n",
    "</div>"
   ]
  },
  {
   "cell_type": "markdown",
   "metadata": {},
   "source": [
    "Now, open the file `02_Meet_Tina.py` and try running it!"
   ]
  },
  {
   "cell_type": "markdown",
   "metadata": {},
   "source": []
  }
 ],
 "metadata": {
  "kernelspec": {
   "display_name": "Python 3",
   "language": "python",
   "name": "python3"
  },
  "language_info": {
   "codemirror_mode": {
    "name": "ipython",
    "version": 3
   },
   "file_extension": ".py",
   "mimetype": "text/x-python",
   "name": "python",
   "nbconvert_exporter": "python",
   "pygments_lexer": "ipython3",
   "version": "3.12.11"
  },
  "syllabus": {
   "uid": "cNLK6qtR"
  }
 },
 "nbformat": 4,
 "nbformat_minor": 4
}
