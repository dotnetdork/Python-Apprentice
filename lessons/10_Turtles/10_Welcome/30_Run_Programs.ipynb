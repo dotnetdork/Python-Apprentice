{
 "cells": [
  {
   "cell_type": "markdown",
   "metadata": {},
   "source": [
    "# **Running Programs**\n",
    "\n",
    "You can run Python in two main ways: using Python files or Notebooks.\n",
    "\n",
    "* <span title=\"Notebook files use the .ipynb extension and let you combine code, text, and images in one interactive document.\" style=\"cursor: help\">**Notebook files**</span> end with `.ipynb`. These are special because you can read them and also run code inside them!\n",
    "* <span title=\"Python files use the .py extension and contain code that you can run as standalone scripts or modules.\" style=\"cursor: help\">**Python files**</span> end with `.py`. You can run these by clicking the ▶️ play button.\n",
    "\n",
    "## **How to Run Code Cells**\n",
    "\n",
    "This file is a Notebook. If you're using Visual Studio Code, you'll see a <span title=\"Lets you run every code cell in the notebook from top to bottom with a single click.\">⏩ **Run All**</span> button at the top, and some code blocks will have a <span title=\"Only runs the code in the cell.\">▶️</span> button on the left.\n",
    "\n",
    "Try running the code below! Just move your mouse over the code cell and click the ▶️ button."
   ]
  },
  {
   "cell_type": "code",
   "execution_count": null,
   "metadata": {},
   "outputs": [],
   "source": [
    "import datetime\n",
    "\n",
    "# Get the current date\n",
    "date = datetime.date.today()\n",
    "\n",
    "# Make a string with a message and the date\n",
    "s = f\"Hello 👋 World 🌎 ! Today is\"\n",
    "\n",
    "# Print the string and the date\n",
    "print(s, date)"
   ]
  },
  {
   "cell_type": "markdown",
   "metadata": {},
   "source": [
    "Here’s what the code cell looks like with the run button. Try it out!\n",
    "\n",
    "<img src=\"https://images.jointheleague.org/vscode/run_cell.png\" height=\"auto\" width=\"100%\">"
   ]
  },
  {
   "cell_type": "markdown",
   "metadata": {},
   "source": [
    "### **Setting Up The Interpreter**\n",
    "\n",
    "> **Note:** If your code ran fine after pressing the play button you can safely skip this section and move on to \"What is a Cell\"\n",
    "\n",
    "The first time you press the ▶️ button you might notice that nothing happens. Don’t worry! Technically something did, you just were not able to see it. This is because you still need to pick which interpreter (or version) for Python to use.\n",
    "\n",
    "Look at the top of Visual Studio Code for a box that looks like this <img style=\"vertical-align: middle; height: 2.2em; width: auto;\" src=\"https://i.ibb.co/7dd8fYhp/Screenshot-2025-08-20-183631.png\">, and click on it. \n",
    "\n",
    "This should have made a dropdown appear in the top-middle of your editor, as shown below:\n",
    "\n",
    "<img src=\"https://images.jointheleague.org/vscode/select_python.png\" height=\"auto\" width=\"100%\">\n",
    "\n",
    "Now all you need to do is click on a Python option from the list (look for one with a ★ or .venv in the name) and try running the code again!\n",
    "\n",
    "<img src=\"https://images.jointheleague.org/vscode/select_venv.png\" height=\"auto\" width=\"100%\">\n",
    "<div></div><!--This is just for spacing-->\n",
    "\n",
    "> **Note:** You’ll need to pick a Python interpreter every time you open a new notebook."
   ]
  },
  {
   "cell_type": "markdown",
   "metadata": {},
   "source": [
    "### **What is a Code Cell?**\n",
    "In a notebook, a *code cell* is simply a box where you can write and run code. You can try running a code cell by clicking the ▶️ button or by pressing <kbd style=\"background-color: white; color: black; white-space: nowrap;\">⇧ Shift</kbd> + <kbd style=\"background-color: white; color: black; white-space: nowrap;\">⏎ Enter</kbd> on your keyboard.\n",
    "\n",
    "Here are some tips for using cells:\n",
    "\n",
    "* Click inside a cell to change or add code. When you do, you'll see a blue bar and outline.\n",
    "* To move a cell up or down, press the Esc key first to enter \"Command Mode.\"\n",
    "* When a cell is active, look for a small menu in the top right for more options. "
   ]
  },
  {
   "cell_type": "markdown",
   "metadata": {},
   "source": [
    "### **Your First Assignment**\n",
    "**Try it yourself!**\n",
    "\n",
    "1. Copy the Hello World code from above into the cell below, or type `print(\"Hello World!\")`</span><br>\n",
    "2. Change the string inside the quotation marks so that it also prints your name (e.g., change \"Hello World!\" to \"Your Name\").<br>\n",
    "3. Now all you have to do is press the play button and run the code!</span><br>"
   ]
  },
  {
   "cell_type": "code",
   "execution_count": null,
   "metadata": {},
   "outputs": [],
   "source": [
    "# Write your Hello World code below\n"
   ]
  },
  {
   "cell_type": "markdown",
   "metadata": {},
   "source": [
    "## **How to Run `.py` Programs**\n",
    "\n",
    "Running `.py` files might seem new or even a little overwhelming at first, but don’t worry—you’ll get the hang of it quickly! In the next lesson, you’ll try running a Python program called `Meet_Tina.py`. There are a few different ways to do this, and you can use whichever feels easiest for you. Let’s walk through each option together!\n",
    "\n",
    "### Using the Lesson Browser\n",
    "\n",
    "The Lesson Browser is a simple way to run `.py` programs in this course.\n",
    "\n",
    "In the bottom-left, you’ll see buttons like this:\n",
    "\n",
    "<img src=\"https://images.jointheleague.org/vscode/lesson-browser.png\" height=\"100%\" width=\"auto\">\n",
    "\n",
    "Here’s how it works, step by step:\n",
    "- Click <span style=\"background-color: green; color: white; padding: 2px 8px; border-radius: 4px;\">▶ Run</span> to start your program\n",
    "\n",
    "- Click <span style=\"background-color: #b62525ff; color: white; padding: 2px 8px; border-radius: 4px;\">⏹ Stop</span> to stop it\n",
    "\n",
    "- When you’re ready for the next lesson, just click <span style=\"background-color: #0099ffff; color: white; padding: 2px 8px; border-radius: 4px;\">Next Lesson</span>\n",
    "\n",
    "### Using the Play Button\n",
    "\n",
    "You can also run a `.py` program by clicking the ▶️ button in your editor.\n",
    "\n",
    "1. Click the file name to open it.\n",
    "2. In the top right, look for these icons <img style=\"vertical-align:middle\" src=\"https://images.jointheleague.org/vscode/run_buttons.png\" height=\"25px\" > and click the ▶️ run button.\n",
    "3. When you’re done, just close the window.\n",
    "\n",
    "### Using the Debugger\n",
    "\n",
    "If you want to try out the debugger, you can press <kbd style=\"background-color: white; color: black\">F5</kbd> on Windows 🪟, or <kbd style=\"background-color: white; color: black\">fn</kbd> + <kbd style=\"background-color: white; color: black\">F5</kbd> on Mac 🍎. The first time, you’ll be asked to <span title=\"The first time you hit F5, look at the top of the IDE window. You should see a selection window that reads 'Select Debugger'. Select the first option, 'Python Debugger'. Then, on the next window, select 'Python File. Debug currently active Python file'.\">select a debugger—just pick the Python Debugger and then choose to debug the currently active Python file.\n",
    "\n",
    "You’ll see a debug bar like this:\n",
    "\n",
    "<img src=\"https://images.jointheleague.org/vscode/debug_bar.png\" height=\"auto\" width=\"300px\">\n",
    "\n",
    "Don’t worry about all the buttons for now! You just need to know that you can press the red square to stop your program, and the green circle to run it again.\n",
    "\n",
    "> **Tip:** Remember, it’s totally normal to feel unsure at first. Take your time, try out each method, and soon running Python programs will feel easy!\n"
   ]
  },
  {
   "cell_type": "markdown",
   "metadata": {},
   "source": [
    "<div style=\"background-color: #ffedbaff; color: #ff4800ff; border: 3px solid #ff000070; padding: 8px;\">\n",
    "\n",
    "**If a program is already running, you must close the program before starting another one.**\n",
    "\n",
    "**You have two options to close it:**\n",
    "- **Click the ❌ in the top-right corner of the window.**  \n",
    "    - **If the program's code ends with `turtle.exitonclick()`, you can simply click anywhere inside the window to close it.**\n",
    "- **If you are using the debugger, you can also stop the program by clicking the red square icon in the debugger toolbar.**\n",
    "<!--I had to change this, it was really hard for me to understand because of my dyslexia-->\n",
    "</div>"
   ]
  },
  {
   "cell_type": "markdown",
   "metadata": {},
   "source": [
    "Now, click the <span style=\"background-color: #0099ffff; color: white; padding: 2px 8px; border-radius: 4px;\">Next Lesson</span> button, open the file `Meet_Tina.py`, and try running it!"
   ]
  }
 ],
 "metadata": {
  "kernelspec": {
   "display_name": "Python 3",
   "language": "python",
   "name": "python3"
  },
  "language_info": {
   "codemirror_mode": {
    "name": "ipython",
    "version": 3
   },
   "file_extension": ".py",
   "mimetype": "text/x-python",
   "name": "python",
   "nbconvert_exporter": "python",
   "pygments_lexer": "ipython3",
   "version": "3.13.5"
  },
  "syllabus": {
   "uid": "cNLK6qtR"
  }
 },
 "nbformat": 4,
 "nbformat_minor": 4
}
