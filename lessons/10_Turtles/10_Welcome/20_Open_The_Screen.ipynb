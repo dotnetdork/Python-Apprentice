{
 "cells": [
  {
   "cell_type": "markdown",
   "metadata": {},
   "source": [
    "# Let's Open Your Virtual Screen!\n",
    "\n",
    "Welcome back, Code Explorer! 🌟 Are you ready to see your code come to life? Of course you are!\n",
    "\n",
    "To get started, you probably clicked a button like this to open your Codespace: <img style=\"vertical-align:middle\" src=\"https://images.jointheleague.org/vscode/create_codespace.png\" height=\"25px\" >. Now, to see your turtle's drawings, you need to open a **virtual screen**.\n",
    "\n",
    "Most of the time, this screen will open automatically. But if it doesn't appear, don't worry! Just look for the monitor icon <img style=\"vertical-align:middle\" src=\"https://images.jointheleague.org/vscode/monitor_icon.png\" height=\"25px\" > in the top right corner of your screen and click it.\n",
    "\n",
    "Once your virtual screen is open, you're ready to create something awesome! When you run your code, your turtle's 🐢 drawings 🎨 will appear in this window."
   ]
  },
  {
   "cell_type": "markdown",
   "metadata": {},
   "source": []
  }
 ],
 "metadata": {
  "kernelspec": {
   "display_name": "Python 3",
   "language": "python",
   "name": "python3"
  },
  "language_info": {
   "codemirror_mode": {
    "name": "ipython",
    "version": 3
   },
   "file_extension": ".py",
   "mimetype": "text/x-python",
   "name": "python",
   "nbconvert_exporter": "python",
   "pygments_lexer": "ipython3",
   "version": "3.12.11"
  },
  "syllabus": {
   "uid": "KmgIQbhr"
  }
 },
 "nbformat": 4,
 "nbformat_minor": 4
}
