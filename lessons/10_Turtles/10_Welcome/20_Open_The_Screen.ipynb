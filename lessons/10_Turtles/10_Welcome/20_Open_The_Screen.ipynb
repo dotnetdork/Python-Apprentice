{
  "cells": [
    {
      "cell_type": "markdown",
      "metadata": {},
      "source": [
        "\n",
        "## 🖥️ Let's Open Your Virtual Screen!\n",
        "\n",
        "Okay great! So now, you started your editor as a Codespace on GitHub. If you did this correctly, you clicked a button like this: <img style=\"vertical-align:middle\" src=\"https://images.jointheleague.org/vscode/create_codespace.png\" height=\"25px\" >, but now you need to open a **virtual screen** to interact with the turtle.\n",
        "\n",
        "Usually this screen pops up by itself, but if you don't see it don't worry! Just look for the monitor icon <img style=\"vertical-align:middle\" src=\"https://images.jointheleague.org/vscode/monitor_icon.png\" height=\"25px\" > in the top right corner of your screen and give it a click!\n",
        "\n",
        "Now that your virtual screen is ready, gt ready to create something awesome! When you run your code, your turtle's 🐢 drawings 🎨 will appear in this window. \n"
      ]
    },
    {
      "cell_type": "markdown",
      "metadata": {},
      "source": []
    }
  ],
  "metadata": {
    "kernelspec": {
      "display_name": "Python 3",
      "language": "python",
      "name": "python3"
    },
    "language_info": {
      "codemirror_mode": {
        "name": "ipython",
        "version": 3
      },
      "file_extension": ".py",
      "mimetype": "text/x-python",
      "name": "python",
      "nbconvert_exporter": "python",
      "pygments_lexer": "ipython3",
      "version": "3.12.11"
    },
    "syllabus": {
      "uid": "KmgIQbhr"
    }
  },
  "nbformat": 4,
  "nbformat_minor": 4
}
