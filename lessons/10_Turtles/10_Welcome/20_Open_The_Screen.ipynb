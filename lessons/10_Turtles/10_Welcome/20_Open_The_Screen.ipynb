{
 "cells": [
  {
   "cell_type": "markdown",
   "metadata": {},
   "source": [
    "# **Let's Open Your Virtual Screen!**\n",
    "\n",
    "Welcome back, Code Explorer! 🌟 Are you ready to see your code come to life? Of course you are!\n",
    "\n",
    "To get started, you probably clicked a button like this <img style=\"vertical-align:middle\" src=\"https://images.jointheleague.org/vscode/create_codespace.png\" height=\"25px\" > to open your Codespace. Now, to see your turtle's drawings, you just need to open a virtual screen. Don't worry, this part is easy.\n",
    "\n",
    "Most of the time, this screen will open automatically. If for some reason it doesn't appear, just look for the little monitor icon <img style=\"vertical-align:middle\" src=\"https://images.jointheleague.org/vscode/monitor_icon.png\" height=\"25px\" > in the top right corner of your editor and click on it.\n",
    "\n",
    "You should now be looking at something like the image below, just click on the <em>connect</em> button!\n",
    "<div style=\"flex: 1;\">\n",
    "        <img src=\"https://i.ibb.co/GQXxGqFC/Screenshot-2025-08-20-191656.png\" alt=\"Virtual screen opening to noVNC\" style=\"width: 40%; height: auto; border-radius: 8px;\">\n",
    "</div>\n",
    "\n",
    "With your virtual screen open, you are now one step closer to interacting with your turtle!"
   ]
  }
 ],
 "metadata": {
  "kernelspec": {
   "display_name": "Python 3",
   "language": "python",
   "name": "python3"
  },
  "language_info": {
   "codemirror_mode": {
    "name": "ipython",
    "version": 3
   },
   "file_extension": ".py",
   "mimetype": "text/x-python",
   "name": "python",
   "nbconvert_exporter": "python",
   "pygments_lexer": "ipython3",
   "version": "3.13.5"
  },
  "syllabus": {
   "uid": "KmgIQbhr"
  }
 },
 "nbformat": 4,
 "nbformat_minor": 4
}
