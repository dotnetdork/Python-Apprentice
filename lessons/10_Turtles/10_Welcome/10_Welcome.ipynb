{
  "cells": [
    {
      "cell_type": "markdown",
      "metadata": {},
      "source": [
        "# **Getting Started with Python**\n",
        "\n",
        "Hello future coders, programmers, and engineers! Welcome to your first <span title=\"Python is a popular programming language that's known for being powerful, simple, and easy to read\">**Python**</span> lesson with the **League of Amazing Programmers**. We're super excited to help you take your first steps into becoming an amazing programmer! \n",
        "\n",
        "To follow along, make sure you're reading this lesson in one of these spots:\n",
        "\n",
        "* [**Visual Studio Code**](https://code.visualstudio.com/) (if you're on your own computer)\n",
        "* [**Github Codespaces**](https://github.com/features/codespaces) (if you're working in a web browser)\n",
        "* **The League Code Server** (if you're using the League's online coding platform) <!--If there is a link for this let me know -->\n",
        "\n",
        "We'll start by learning <span title=\"A style of computer programming that uses a virtual turtle to draw graphics on the screen.\" style=\"cursor: help\">**turtle programming**</span>, and you'll get to give commands to a virtual turtle, telling it where to move on the screen. It's almost like having a little robot artist 🤖 that you can control with code. To do this, we'll use a pre-installed Python tool called the <span title=\"The turtle module is a pre-installed graphics library commonly used for creating drawings and animations.\" style=\"cursor: help\">**turtle module**</span>. \n",
        "\n",
        "You can tell your turtle 🐢 to move forward ↑, turn left ← or ➝ right, and change the color 🎨 of the lines it draws 🖍️— Soon, you'll be able to create awesome pictures like this one!\n",
        "\n",
        "<div style=\"display: flex; align-items: center; gap: 25px; margin-top: 20px;\">\n",
        "\n",
        "<div style=\"flex: 1;\">\n",
        "        <img src=\"https://images.jointheleague.org/python/spiral.png\" alt=\"A colorful spiral drawn with the turtle library.\" style=\"width: 100%; height: auto; border-radius: 8px;\">\n",
        "</div>\n",
        "\n",
        "<div style=\"flex: 1.5; align-self: flex-start;\">\n",
        "        <h2>Let's Get Set Up!</h3>\n",
        "        <p>Before we can start drawing, we need to set up your coding environment. Don't worry if anything seems confusing—that's what your instructors are here for! Feel free to ask for help if you get stuck.</p>\n",
        "        <p>Ready to go? Click the blue <span style=\"background-color: #0099ffff; color: white; padding: 2px 8px; border-radius: 4px;\"><strong>Next Lesson</strong></span> button at the bottom-left of your screen to continue! 🚀</p>\n",
        "        <div style=\"background-color: #000000ff; padding: 1px; color: #8d8d8dff; border-style: solid; border-color: #8d8d8dff; border-size: 1px;\">\n",
        "\n",
        "- **Notes & Key Terms:**\n",
        "    - **Python** — A popular programming language known for its simplicity and readability.\n",
        "    - **Turtle Module** — A built-in Python library that allows for drawing shapes and patterns using a virtual turtle.\n",
        "    - **Turtle Programming** — A style of programming that uses the turtle module to create graphics and animations.\n",
        "</div>"
      ]
    }
  ],
  "metadata": {
    "kernelspec": {
      "display_name": "Python 3",
      "language": "python",
      "name": "python3"
    },
    "language_info": {
      "codemirror_mode": {
        "name": "ipython",
        "version": 3
      },
      "file_extension": ".py",
      "mimetype": "text/x-python",
      "name": "python",
      "nbconvert_exporter": "python",
      "pygments_lexer": "ipython3",
      "version": "3.13.5"
    },
    "syllabus": {
      "uid": "RRTPqCQu"
    }
  },
  "nbformat": 4,
  "nbformat_minor": 4
}
