{
  "cells": [
    {
      "cell_type": "markdown",
      "metadata": {},
      "source": [
        "# **Getting Started with Python**\n",
        "\n",
        "Hello future coders, programmers, and engineers! Welcome to your first <span title=\"Python is a popular programming language that's known for being powerful, simple, and easy to read\" style=\"cursor: help\">**Python**</span> lesson with the *League of Amazing Programmers*. We're super excited to help you take your first steps into becoming an amazing programmer! \n",
        "\n",
        "To follow along, make sure you're reading this lesson in one of these spots:\n",
        "\n",
        "* [**Visual Studio Code**](https://code.visualstudio.com/) (if you're on your own computer)\n",
        "* [**GitHub Codespaces**](https://github.com/features/codespaces) (if you're working in a web browser)\n",
        "* **The League Code Server** (if you're using the League's online coding platform)\n",
        "\n",
        "We'll start by learning <span title=\"A style of computer programming that uses a virtual turtle to draw graphics on the screen.\" style=\"cursor: help\">**turtle programming**</span>, and you'll get to give commands to a virtual turtle, telling it where to move on the screen. It's almost like having a little robot artist 🤖 that you can control with code. To do this, we'll use a pre-installed Python tool called the <span title=\"The turtle module is a pre-installed graphics library commonly used for creating drawings and animations.\" style=\"cursor: help\">**turtle module**</span>.\n",
        "\n",
        "You can tell your turtle 🐢 to move forward ↑, turn left ← or ➝ right, and change the color 🎨 of the lines it draws 🖍️— soon you'll be able to create animated drawings like the one below!\n",
        "\n",
        "<div style=\"display: flex; flex-wrap: wrap; align-items: flex-start; gap: 20px; margin-top: 20px;\">\n",
        "\n",
        "<div style=\"flex: 1 1 320px; max-width: 520px;\">\n",
        "        <img src=\"https://i.ibb.co/TDCt63WW/gif.gif\" alt=\"A colorful spiral drawn with the turtle library.\" style=\"width: 100%; height: auto; border-radius: 8px;\">\n",
        "</div>\n",
        "\n",
        "<div style=\"flex: 1 1 280px; align-self: flex-start;\">\n",
        "        <h2><strong>Let's Get Set Up</strong></h2>\n",
        "        <p>Follow the quick checklist below so you'll be ready to run the turtle examples in this lesson.</p>\n",
        "        <ol>\n",
        "            <li><strong>Install Python 3.7+</strong> — confirm by running <code>python --version</code> locally.</li>\n",
        "            <li><strong>Open this folder</strong> in Visual Studio Code, Codespaces, or the League Code Server.</li>\n",
        "            <li><strong>Run the examples</strong> from the notebook (or run the .py script if you prefer).</li>\n",
        "            <li><strong>If the turtle window doesn't appear</strong>, try running the notebook locally (desktop Python) or run the example as a .py file — some remote/headless environments block GUI windows.</li>\n",
        "        </ol>\n",
        "        <p>If you get stuck, ask an instructor or open a new issue with the exact error or environment details (OS, Python version).</p>\n",
        "        <div style=\"background-color: #f7fbff; padding: 10px; color: #0f172a; border-radius: 6px; border: 1px solid #dbeafe; margin-top: 8px;\">\n",
        "            <strong>Notes & Key Terms</strong>\n",
        "            <ul>\n",
        "                <li><strong>Python</strong> — the language we'll use to write programs.</li>\n",
        "                <li><strong>turtle</strong> — a built-in Python module for simple graphics and drawing.</li>\n",
        "                <li><strong>GUI window</strong> — turtle opens a graphical window; it may not display in headless/remotely hosted sessions.</li>\n",
        "            </ul>\n",
        "        </div>\n",
        "</div>\n",
        "</div>"
      ]
    }
  ],
  "metadata": {
    "kernelspec": {
      "display_name": "Python 3",
      "language": "python",
      "name": "python3"
    },
    "language_info": {
      "codemirror_mode": {
        "name": "ipython",
        "version": 3
      },
      "file_extension": ".py",
      "mimetype": "text/x-python",
      "name": "python",
      "nbconvert_exporter": "python",
      "pygments_lexer": "ipython3",
      "version": "3.13.5"
    },
    "syllabus": {
      "uid": "RRTPqCQu"
    }
  },
  "nbformat": 4,
  "nbformat_minor": 4
}
