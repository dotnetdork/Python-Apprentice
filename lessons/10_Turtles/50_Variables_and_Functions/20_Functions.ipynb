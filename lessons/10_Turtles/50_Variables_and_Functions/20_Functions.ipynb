{
 "cells": [
  {
   "cell_type": "markdown",
   "metadata": {},
   "source": [
    "# **Functions**\n",
    "\n",
    "In this lesson, you'll learn how to create and use <span title=\"A function is a named block of code that performs a specific task and can be reused by calling it.\" style=\"cursor: help\">**functions**</span> in Python. Functions help you organize your code, avoid repetition, and solve problems more efficiently. You'll discover how to define functions, use <span title=\"A parameter is a variable in a function definition that receives a value when the function is called.\" style=\"cursor: help\">**parameters**</span> to pass information, and return results. By the end, you'll be able to write your own reusable code blocks to perform calculations, make decisions, and more!\n"
   ]
  },
  {
   "cell_type": "markdown",
   "metadata": {},
   "source": [
    "## **What Are Functions and Why Use Them?**\n",
    "\n",
    "A function is a named block of code that does a specific job. You can <span title=\"Calling a function means running the code inside it by using its name and providing any needed arguments. EXAMPLE: function_name(argument)\"  style=\"cursor: help\">**call**</span> a function whenever you need it, instead of writing the same code over and over. \n",
    "\n",
    "Functions help programmers:\n",
    "- <span title=\"Breaking problems into small, modular functions makes your code easier to test, debug, and update. It helps you tackle complex tasks one step at a time.\" style=\"cursor: help\">**Solve problems step-by-step** through breaking big problems into smaller ones\n",
    "- <span title=\"Functions let you group related code together, making your programs easier to read, understand, and fix. Well-organized code helps you spot mistakes, update features, and collaborate with others more easily.\" style=\"cursor: help\">**Organize your code**</span> so it becomes easier to read and fix  \n",
    "- <span title=\"Reusability means you can use the same function in many places, save time and effort, and just call the function when needed. This helps by making your code shorter and easier to update.\" style=\"cursor: help\">**Reuse code**</span> and avoid having to copy and paste  \n"
   ]
  },
  {
   "cell_type": "markdown",
   "metadata": {},
   "source": [
    "### **Defining Functions and Performing Calculations**\n",
    "\n",
    "Let's see how we can turn our angle calculation from the previous lesson into a function:"
   ]
  },
  {
   "cell_type": "code",
   "execution_count": null,
   "metadata": {},
   "outputs": [],
   "source": [
    "# Run Me!\n",
    "\n",
    "# Define the function\n",
    "def calculate_angle(sides):                             # Define the function with a parameter called 'sides'\n",
    "    angle = 360 / sides                                 # Calculate the turning angle for a regular polygon\n",
    "    return angle                                        # Send the calculated angle back to whoever called this function\n",
    "\n",
    "# Now we can use the function with different values\n",
    "triangle_angle = calculate_angle(3)                     # Call the function with 3 sides (triangle)\n",
    "square_angle = calculate_angle(4)                       # Call the function with 4 sides (square)  \n",
    "hexagon_angle = calculate_angle(6)                      # Call the function with 6 sides (hexagon)\n",
    "\n",
    "# Print the results\n",
    "print(\"Triangle angle:\", triangle_angle)\n",
    "print(\"Square angle:\", square_angle)\n",
    "print(\"Hexagon angle:\", hexagon_angle) \n",
    "\n",
    "# Try changing the parameters to see how the angle changes or create new shapes!"
   ]
  },
  {
   "cell_type": "markdown",
   "metadata": {},
   "source": [
    "When you define a function, you use the word `def` followed by your function's name. Inside the parentheses, you list any <span title=\"A parameter is a variable in a function definition that receives a value when the function is called.\" style=\"cursor: help\">parameters</span>, and when you call the function, you provide <span title=\"An argument is the actual value passed into a function when you call it. EXAMPLE: function_name(argument)\" style=\"cursor: help\">**arguments**</span> that fill in those placeholders and let the function do its job.\n",
    "\n",
    "For example, calling `calculate_angle(4)` sets `sides = 4` and gives you the angle for a square. Calling `calculate_angle(6)` sets `sides = 6` for a hexagon.\n",
    "\n",
    "You can also use a function in a loop to quickly calculate angles for many shapes, which saves time and keeps your code neat.\n",
    "\n",
    "Let's take a look:"
   ]
  },
  {
   "cell_type": "code",
   "execution_count": null,
   "metadata": {},
   "outputs": [],
   "source": [
    "# Run Me!\n",
    "\n",
    "# Define the function\n",
    "def calculate_angle(sides):                                     # Define a function that takes one parameter\n",
    "    angle = 360 / sides                                         # Formula: 360 degrees divided by number of sides\n",
    "    return angle                                                # Return the calculated angle to the caller\n",
    "\n",
    "# Now let's test it with different shapes using a loop\n",
    "for sides in range(3, 10):                                      # Loop through 3 to 9 sides (3=triangle, 4=square, etc.)\n",
    "    angle = calculate_angle(sides)                              # Call our function with the current number of sides\n",
    "    print(\"Angle for\", sides, \"sides is\", angle, \"degrees\")     # Display the result"
   ]
  },
  {
   "cell_type": "markdown",
   "metadata": {},
   "source": [
    "### **Using Parameters and Arguments**\n",
    "\n",
    "Functions use parameters to accept input values, and you provide arguments when calling the function. This lets you reuse the same function with different data.\n",
    "\n",
    "Here's a simple example:"
   ]
  },
  {
   "cell_type": "code",
   "execution_count": null,
   "metadata": {},
   "outputs": [],
   "source": [
    "# Run Me!\n",
    "\n",
    "# A function that uses parameters and arguments\n",
    "def say_hello(name, times):                             # Define function with two parameters: name and times\n",
    "    for i in range(times):                              # Repeat the greeting for the specified number of times\n",
    "        print(i + 1, \"Hello\", name)                     # Print greeting number (i+1) and the person's name\n",
    "\n",
    "say_hello(\"John\", 5)                                    # Call the function: \"John\" is the name, 5 is how many times"
   ]
  },
  {
   "cell_type": "markdown",
   "metadata": {},
   "source": [
    "Remember, the `def` line starts the function definition and the last line calls and then runs the function.\n",
    "\n",
    "Try calling the function with different arguments:"
   ]
  },
  {
   "cell_type": "code",
   "execution_count": null,
   "metadata": {},
   "outputs": [],
   "source": [
    "# Run Me!\n",
    "\n",
    "say_hello('Alice', 3)               # Greet Alice 3 times\n",
    "say_hello('Bob', 2)                 # Greet Bob 2 times  \n",
    "say_hello('Charlie', 4)             # Greet Charlie 4 times\n",
    "\n",
    "# Try calling the function with your own names and different numbers!"
   ]
  },
  {
   "cell_type": "markdown",
   "metadata": {},
   "source": [
    "### **Returning Values from Functions**\n",
    "\n",
    "Many functions calculate and return values you can use elsewhere in your program. The `return` statement sends a value back to whoever called the function:"
   ]
  },
  {
   "cell_type": "code",
   "execution_count": null,
   "metadata": {},
   "outputs": [],
   "source": [
    "# Run Me!\n",
    "\n",
    "# Functions can perform calculations and store their results in variables\n",
    "\n",
    "def add_numbers(x, y):                          # Adds two numbers and returns their sum\n",
    "    result = x + y                              # Calculate the sum\n",
    "    return result                               # Return the sum\n",
    "\n",
    "def multiply_numbers(a, b):                     # Multiplies two numbers and returns the product\n",
    "    return a * b                                # Return the product\n",
    "\n",
    "def calculate_area(length, width):              # Calculates the area of a rectangle\n",
    "    area = length * width                       # Area = length × width\n",
    "    return area                                 # Return the area\n",
    "\n",
    "# Call the functions and store their results in variables\n",
    "\n",
    "sum_result = add_numbers(10, 5)                 # Store the sum of 10 and 5\n",
    "product = multiply_numbers(4, 7)                # Store the product of 4 and 7\n",
    "room_area = calculate_area(12, 10)              # Store the area of a 12×10 room\n",
    "\n",
    "# Print the results returned from the functions\n",
    "\n",
    "print(\"10 + 5 =\", sum_result)\n",
    "print(\"4 × 7 =\", product)\n",
    "print(\"Room area:\", room_area, \"square feet\")\n",
    "\n",
    "# Try changing the numbers to see different results!"
   ]
  },
  {
   "cell_type": "markdown",
   "metadata": {},
   "source": [
    "## **Advanced Function Examples**\n",
    "\n",
    "Functions can make decisions, validate input, and return multiple results:"
   ]
  },
  {
   "cell_type": "code",
   "execution_count": null,
   "metadata": {},
   "outputs": [],
   "source": [
    "# Run Me!\n",
    "\n",
    "# Decision function\n",
    "def check_temperature(temp):                            # Function takes temperature as parameter\n",
    "    if temp > 80:                                       # Check if it's hot (above 80 degrees)\n",
    "        return \"It's hot outside!\"                      # Return message for hot weather\n",
    "    elif temp > 60:                                     # Check if it's nice (between 60-80 degrees)\n",
    "        return \"Nice weather!\"                          # Return message for nice weather  \n",
    "    else:                                               # Everything else (60 degrees or below)\n",
    "        return \"It's cold outside!\"                     # Return message for cold weather\n",
    "\n",
    "# Age validation\n",
    "def is_valid_age(age):                                  # Function to check if an age makes sense\n",
    "    if age >= 0 and age <= 100:                         # Reasonable age range (0 to 100 years)\n",
    "        return True                                     # Return True if age is valid\n",
    "    else:                                               # If age is negative or over 100\n",
    "        return False                                    # Return False if age is invalid\n",
    "\n",
    "# Pizza calculator\n",
    "def pizza_calculator(people, slices_per_person=3):      # Default: 3 slices per person if not specified\n",
    "    total_slices_needed = people * slices_per_person    # Total slices = people × slices each person gets\n",
    "    pizzas_needed = -(-total_slices_needed // 8)        # Round up to nearest whole pizza (8 slices per pizza)\n",
    "    return total_slices_needed, pizzas_needed           # Return both values at once!\n",
    "\n",
    "# Test functions and print results\n",
    "weather_report = check_temperature(75)                  # Test temperature function with 75 degrees\n",
    "print(weather_report)\n",
    "\n",
    "age_valid = is_valid_age(25)                            # Test age validation with 25 years old\n",
    "print(\"Is age 25 valid?\", age_valid)\n",
    "\n",
    "slices, pizzas = pizza_calculator(10)                   # Calculate pizza needs for 10 people (uses default 3 slices each)\n",
    "print(f\"For 10 people: need {slices} slices and {pizzas} pizzas\") \n",
    "\n",
    "# Try changing the inputs to see different results!"
   ]
  },
  {
   "cell_type": "markdown",
   "metadata": {},
   "source": [
    "## **Using Functions with Tina**\n",
    "\n",
    "Now let's put our function knowledge to work with Tina!"
   ]
  },
  {
   "cell_type": "code",
   "execution_count": null,
   "metadata": {},
   "outputs": [],
   "source": [
    "# PROCEED WITH CAUTION:\n",
    "# This code is for demonstration and may not run perfectly inside the notebook cell.\n",
    "# It's just here to show you an example of how the turtle drawing works.\n",
    "# If you want to see Tina in action, copy and paste this code into your own Python environment and run it!\n",
    "\n",
    "import turtle\n",
    "turtle.setup(600, 600, 0, 0)\n",
    "tina = turtle.Turtle()\n",
    "\n",
    "# Function to draw any polygon\n",
    "def draw_polygon(sides, size, color=\"black\"):\n",
    "    \"\"\"Draws a polygon with the specified number of sides and size\"\"\"\n",
    "    tina.color(color)\n",
    "    angle = 360 / sides  # Calculate the turning angle\n",
    "    \n",
    "    for i in range(sides):\n",
    "        tina.forward(size)\n",
    "        tina.left(angle)\n",
    "\n",
    "# Function to move Tina without drawing\n",
    "def move_tina(x, y):\n",
    "    \"\"\"Moves Tina to a new position without drawing a line\"\"\"\n",
    "    tina.penup()\n",
    "    tina.goto(x, y)\n",
    "    tina.pendown()\n",
    "\n",
    "# Now let's use our functions!\n",
    "draw_polygon(3, 50, \"red\")      # Draw a red triangle\n",
    "move_tina(100, 0)               # Move to a new spot\n",
    "draw_polygon(4, 60, \"blue\")     # Draw a blue square\n",
    "move_tina(-100, 100)            # Move again\n",
    "draw_polygon(6, 40, \"green\")    # Draw a green hexagon\n",
    "\n",
    "# See how functions make our code cleaner and easier to reuse?\n",
    "# Try calling the functions with different parameters!"
   ]
  },
  {
   "cell_type": "markdown",
   "metadata": {},
   "source": [
    "## **Function Challenges (Optional)**\n",
    "\n",
    "Now it's your turn! Write these functions using parameters, return values, and logic:"
   ]
  },
  {
   "cell_type": "code",
   "execution_count": null,
   "metadata": {},
   "outputs": [],
   "source": [
    "# Exercise 1: Write a function that converts Celsius to Fahrenheit\n",
    "# Formula: F = (C × 9/5) + 32\n",
    "def celsius_to_fahrenheit(celsius):\n",
    "    # Your code here\n",
    "\n",
    "# Exercise 2: Write a function that finds the larger of two numbers\n",
    "def find_larger(num1, num2):\n",
    "    # Your code here\n",
    "\n",
    "# Exercise 3: Write a function that calculates the perimeter of a rectangle\n",
    "def rectangle_perimeter(length, width):\n",
    "    # Your code here\n",
    "\n",
    "# Exercise 4: Write a function that counts down from a number\n",
    "def countdown(start_number):\n",
    "    # Your code here - use a loop to print numbers from start_number down to 1\n",
    "\n",
    "# Use print statements to see the results:\n",
    "# print(celsius_to_fahrenheit(0))      # Should print 32.0\n",
    "# print(find_larger(10, 5))            # Should print 10\n",
    "# print(rectangle_perimeter(5, 3))     # Should print 16\n",
    "# print(countdown(5))                  # Should print 5, 4, 3, 2, 1"
   ]
  }
 ],
 "metadata": {
  "kernelspec": {
   "display_name": "Python 3",
   "language": "python",
   "name": "python3"
  },
  "language_info": {
   "codemirror_mode": {
    "name": "ipython",
    "version": 3
   },
   "file_extension": ".py",
   "mimetype": "text/x-python",
   "name": "python",
   "nbconvert_exporter": "python",
   "pygments_lexer": "ipython3",
   "version": "3.13.5"
  },
  "syllabus": {
   "uid": "0CwXIYSb"
  }
 },
 "nbformat": 4,
 "nbformat_minor": 2
}
