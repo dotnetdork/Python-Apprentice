{
 "cells": [
  {
   "cell_type": "markdown",
   "metadata": {},
   "source": [
    "# **Variables**\n",
    "\n",
    "In this lesson, you'll learn how to use <span title=\"A variable is a name that holds a value, which can be changed or reused (e.g., Tina = ... value).\" style=\"cursor: help\">**variables**</span> to store information, perform calculations, and make your programs flexible. We'll explore different types of variables, see how they work in code, and practice using them to solve problems.\n"
   ]
  },
  {
   "cell_type": "markdown",
   "metadata": {},
   "source": [
    "In case you got stuck on the previous lesson, here is one way you could have solved it:"
   ]
  },
  {
   "cell_type": "code",
   "execution_count": null,
   "metadata": {},
   "outputs": [],
   "source": [
    "# PROCEED WITH CAUTION:\n",
    "# This code is for demonstration and may not run perfectly inside the notebook cell.\n",
    "# It's just here to show you an example of how the turtle drawing works.\n",
    "# If you want to see Tina in action, copy and paste this code into your own Python environment and run it!\n",
    "\n",
    "import turtle\n",
    "turtle.setup(600, 600, 0, 0)\n",
    "tina = turtle.Turtle()\n",
    "\n",
    "for i in range(4):             # Loop 4 times (once for each side of the square)\n",
    "     tina.forward(150)         # Move Tina forward by 150 units to draw one side\n",
    "     tina.left(90)             # Turn Tina left by 90 degrees to make a square corner"
   ]
  },
  {
   "cell_type": "markdown",
   "metadata": {},
   "source": [
    "## **What is a Variable?**\n",
    "\n",
    "A variable is like a labeled box that stores information—numbers, words, or anything you want. You can change what's inside anytime, and your program uses the value in the box when it runs. This makes your code easier to update and experiment with, since you only need to change the value in one place. Variables help you organize, remember, and use information in your programs.\n",
    "\n",
    "For example, let's use a variable to store the number of sides for a shape:"
   ]
  },
  {
   "cell_type": "code",
   "execution_count": null,
   "metadata": {},
   "outputs": [],
   "source": [
    "# Store the number of sides for the shape in a variable\n",
    "sides = 6\n",
    "\n",
    "# Calculate the angle needed to turn at each corner using the variable 'sides'\n",
    "# The formula 360 / sides gives the angle for regular polygons\n",
    "angle = 360 / sides\n",
    "\n",
    "# Print out the number of sides and the calculated angle\n",
    "print('Angle for', sides, 'sides is', angle) "
   ]
  },
  {
   "cell_type": "markdown",
   "metadata": {},
   "source": [
    "In this code, `sides` and `angle` are variables:\n",
    "- `sides` is a whole number (integer) with a value of `6`.\n",
    "- `angle` is a decimal number (float) with a value of `60.0`.\n",
    "\n",
    "If you change the value of `sides`, the value of `angle` updates automatically because `angle` is calculated as `360 / sides`. This makes your code flexible and easy to modify. Try changing `sides` to different numbers and watch how `angle` changes! 🎯"
   ]
  },
  {
   "cell_type": "markdown",
   "metadata": {},
   "source": [
    "### **Exploring Variables in Loops**\n",
    "\n",
    "You may not have noticed, but you have been working with variables all along!\n",
    "\n",
    "Let's use a loop to calculate the angle for shapes with 1 to 9 sides:"
   ]
  },
  {
   "cell_type": "code",
   "execution_count": null,
   "metadata": {},
   "outputs": [],
   "source": [
    "# Run Me!\n",
    "\n",
    "# Calculate angles for shapes with 1 to 9 sides\n",
    "for sides in range(1, 10):                          # Loop through numbers 1 to 9\n",
    "    angle = 360 / sides                             # Calculate the angle for the current number of sides\n",
    "    print(\"Angle for\", sides, \"sides is\", angle)    # Print the result"
   ]
  },
  {
   "cell_type": "markdown",
   "metadata": {},
   "source": [
    "Notice how the angle changes for each number of sides. This shows the power of variables—they let you write code that adapts automatically!\n",
    "\n",
    "For example, in your turtle programs, you can use a variable like `sides` to set how many sides your shape will have. The angle for each corner is calculated with the formula `angle = 360 / sides`. If you change the value of `sides`, the value of `angle` updates right away.\n",
    "\n",
    "With variables, Tina the turtle can draw any polygon—triangle, square, hexagon, or even a 9-sided shape—just by changing one number. This makes your code flexible and easy to experiment with!"
   ]
  },
  {
   "cell_type": "markdown",
   "metadata": {},
   "source": [
    "### **Different Types of Variables**\n",
    "\n",
    "Variables can store different types of data, such as <span title=\"A whole number, positive or negative, without decimals.\" style=\"cursor: help\">**integers**</span>, <span title=\"A number with a fractional part, written using a decimal point (e.g., 3.14, -2.5).\" style=\"cursor: help\">**floats**</span>, <span title=\"Text, a sequence of characters in quotes.\" style=\"cursor: help\">**strings**</span>, <span title=\"A boolean is a type of variable that can only be True or False.\" style=\"cursor: help\">**booleans**</span>, <span title=\"An ordered collection of items, enclosed in square brackets.\" style=\"cursor: help\">**lists**</span>, <span title=\"An ordered, immutable collection of items, enclosed in parentheses.\" style=\"cursor: help\">**tuples**</span>, <span title=\"A collection of key-value pairs, enclosed in curly braces.\" style=\"cursor: help\">**dictionaries**</span>, <span title=\"An unordered collection of unique items, enclosed in curly braces.\" style=\"cursor: help\">**sets**</span>, and <span title=\"Represents the absence of a value.\" style=\"cursor: help\">**NoneType**</span>. \n",
    "\n",
    "You don’t need to memorize all these types right now—let’s just look at some examples to see how they work!"
   ]
  },
  {
   "cell_type": "code",
   "execution_count": null,
   "metadata": {},
   "outputs": [],
   "source": [
    "# Run Me!\n",
    "\n",
    "# Variables can store different types of data\n",
    "\n",
    "# Numbers (integers & floats)\n",
    "my_age = 12                                 # This is an integer (a whole number)\n",
    "temperature = 98.6                          # This is a float (a fractional number)\n",
    "\n",
    "# Text (strings)\n",
    "my_name = \"Alice\"                         \n",
    "favorite_color = \"blue\"\n",
    "\n",
    "# Boolean values (True/False)\n",
    "is_sunny = True\n",
    "is_raining = False\n",
    "\n",
    "print(\"Name:\", my_name)\n",
    "print(\"Age:\", my_age)\n",
    "print(\"Temperature:\", temperature)\n",
    "print(\"Favorite color:\", favorite_color)\n",
    "print(\"Is it sunny?\", is_sunny)\n",
    "\n",
    "# Try changing the numbers, text, or boolean values and see what happens!"
   ]
  },
  {
   "cell_type": "markdown",
   "metadata": {},
   "source": [
    "### **Variables and Mathematical Operations**\n",
    "\n",
    "Variables are powerful because they let you do calculations and create messages that update automatically. Change a variable's value, and every calculation or message that uses it will change too! You can also combine variables with text (called concatenation) to display results or create custom messages in your programs."
   ]
  },
  {
   "cell_type": "code",
   "execution_count": null,
   "metadata": {},
   "outputs": [],
   "source": [
    "# Run Me!\n",
    "\n",
    "# Let's plan a pizza party using variables\n",
    "\n",
    "# First we'll want to declare them\n",
    "pizzas = 5                                              # Number of pizzas ordered for the party\n",
    "slices_per_pizza = 8                                    # Number of slices in each pizza\n",
    "people = 12                                             # Number of people sharing the pizzas\n",
    "\n",
    "# Now it's time for a little bit of math\n",
    "total_slices = pizzas * slices_per_pizza                # Multiply to get total slices\n",
    "slices_per_person = total_slices / people               # Divide to find slices each person gets\n",
    "\n",
    "# Finally, we can print our results\n",
    "print(\"We have\", pizzas, \"pizzas\")                      # Show how many pizzas there are\n",
    "print(\"Each pizza has\", slices_per_pizza, \"slices\")     # Show slices per pizza\n",
    "print(\"Total slices:\", total_slices)                    # Show total number of slices\n",
    "print(\"Slices per person:\", slices_per_person)          # Show how many slices each person gets\n",
    "\n",
    "# Try changing the number of pizzas, slices_per_pizza, or people, and see what happens!"
   ]
  },
  {
   "cell_type": "markdown",
   "metadata": {},
   "source": [
    "## **Using Variables with Tina**\n",
    "\n",
    "Let's see how variables make Tina's drawing programs much more flexible and powerful. Instead of hard-coding numbers, we can use variables to control Tina's behavior:"
   ]
  },
  {
   "cell_type": "code",
   "execution_count": null,
   "metadata": {},
   "outputs": [],
   "source": [
    "# PROCEED WITH CAUTION:\n",
    "# This code is for demonstration and may not run perfectly inside the notebook cell.\n",
    "# It's just here to show you an example of how the turtle drawing works.\n",
    "# If you want to see Tina in action, copy and paste this code into your own Python environment and run it!\n",
    "\n",
    "# Let's use variables to make Tina draw different shapes!\n",
    "import turtle\n",
    "turtle.setup(600, 600, 0, 0)\n",
    "tina = turtle.Turtle()\n",
    "\n",
    "# Variables to control the shape\n",
    "sides = 6                   # Number of sides for the shape\n",
    "size = 100                  # Size of each side\n",
    "color = \"blue\"              # Color of the shape\n",
    "\n",
    "# Set Tina's color using our variable\n",
    "tina.color(color)\n",
    "\n",
    "# Calculate the angle using our sides variable\n",
    "angle = 360 / sides\n",
    "\n",
    "# Draw the shape using our variables\n",
    "for i in range(sides):\n",
    "    tina.forward(size)      # Move forward by the size variable\n",
    "    tina.left(angle)        # Turn by the calculated angle\n",
    "\n",
    "# Try changing the variables above and run again!\n",
    "# What happens if you change sides to 3? Or 8?\n",
    "# What if you change size to 50? Or color to \"red\"?"
   ]
  },
  {
   "cell_type": "markdown",
   "metadata": {},
   "source": [
    "## **Variable Excercises (Optional)**\n",
    "\n",
    "Try these exercises to practice working with variables:\n",
    "\n",
    "1. Create variables for your height and your friend's height, then calculate the difference.\n",
    "2. Make variables for the length and width of a rectangle, then calculate the area.\n",
    "3. Store your favorite number in a variable and calculate what it would be if doubled, tripled, and squared."
   ]
  },
  {
   "cell_type": "code",
   "execution_count": null,
   "metadata": {},
   "outputs": [],
   "source": [
    "# Your turn! Complete these variable exercises:\n",
    "\n",
    "# Exercise 1: Heights\n",
    "my_height = 65                                              # My height in inches\n",
    "friend_height = 68                                          # Friend's height in inches\n",
    "height_difference =                                         # Complete this calculation using variables\n",
    "print(\"Height difference:\", height_difference, \"inches\")\n",
    "\n",
    "# Exercise 2: Rectangle area\n",
    "length = 10                                                 # Length of the rectangle\n",
    "width = 5                                                   # Width of the rectangle\n",
    "area =                                                      # Complete this calculation using variables\n",
    "print(\"Rectangle area:\", area, \"square units\")\n",
    "\n",
    "# Exercise 3: Favorite number calculations  \n",
    "favorite_number = 7                                         # Store your favorite number here\n",
    "doubled =                                                   # Calculate double the favorite number using variables\n",
    "tripled =                                                   # Calculate triple the favorite number using variables  \n",
    "squared =                                                   # Calculate the square of the favorite number using variables\n",
    "print(\"Your number doubled:\", doubled)\n",
    "print(\"Your number tripled:\", tripled)\n",
    "print(\"Your number squared:\", squared)"
   ]
  }
 ],
 "metadata": {
  "kernelspec": {
   "display_name": "Python 3",
   "language": "python",
   "name": "python3"
  },
  "language_info": {
   "codemirror_mode": {
    "name": "ipython",
    "version": 3
   },
   "file_extension": ".py",
   "mimetype": "text/x-python",
   "name": "python",
   "nbconvert_exporter": "python",
   "pygments_lexer": "ipython3",
   "version": "3.13.5"
  },
  "syllabus": {
   "uid": "HOBo0wvj"
  }
 },
 "nbformat": 4,
 "nbformat_minor": 2
}
