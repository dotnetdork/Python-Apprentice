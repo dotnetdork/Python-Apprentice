{
  "cells": [
    {
      "cell_type": "markdown",
      "metadata": {},
      "source": [
        "# **Variables and Functions**\n",
        "\n",
        "Welcome to the world of **variables** and **functions**! In this lesson, you'll learn how variables help you store and reuse information, and how functions let you organize your code into reusable blocks. These concepts make your programs easier to read, update, and expand.\n",
        "\n",
        "Here is one of the ways to solve the last assignment, making shapes with a loop:"
      ]
    },
    {
      "cell_type": "code",
      "execution_count": null,
      "metadata": {},
      "outputs": [],
      "source": [
        "# This code will not run inside the notebook, it's just for you to see how it works.\n",
        "# You can copy and paste it into your own Python environment to see it in action!\n",
        "\n",
        "import turtle                           # Tell Python we want to work with the turtle\n",
        "turtle.setup(600,600,0,0)               # Set the size of the window\n",
        "\n",
        "tina = turtle.Turtle()                  # Create a turtle named tina\n",
        "\n",
        "for i in range(4):\n",
        "    tina.forward(150)                   # Move tina forward by the forward distance\n",
        "    tina.left(90)                       # Turn tina left"
      ]
    },
    {
      "cell_type": "markdown",
      "metadata": {},
      "source": [
        "## **What is a Variable?**\n",
        "A variable is a name that stores a value. You can think of it as a labeled box that holds information for your program. Variables let you reuse values and make your code easier to change.\n",
        "\n",
        "For example, let's use a variable to store the number of sides for a shape:"
      ]
    },
    {
      "cell_type": "code",
      "execution_count": null,
      "metadata": {},
      "outputs": [],
      "source": [
        "# Store the number of sides in a variable\n",
        "sides = 6\n",
        "# Calculate the angle using the variable\n",
        "angle = 360 / sides\n",
        "\n",
        "print('Angle for', sides, 'sides is', angle)"
      ]
    },
    {
      "cell_type": "markdown",
      "metadata": {},
      "source": [
        "Here, `sides` and `angle` are variables. Changing the value of `sides` automatically updates `angle`. This makes your code flexible and easy to modify.\n",
        "\n",
        "Try changing `sides` to different numbers and see how the angle changes!"
      ]
    },
    {
      "cell_type": "markdown",
      "metadata": {},
      "source": [
        "### **Practice: Calculating Angles for Different Shapes**\n",
        "Let's use a loop to calculate the angle for shapes with 1 to 9 sides:"
      ]
    },
    {
      "cell_type": "code",
      "execution_count": null,
      "metadata": {},
      "outputs": [],
      "source": [
        "# Run Me!\n",
        "\n",
        "# Calculate angles for shapes with 1 to 9 sides\n",
        "for sides in range(1, 10):                          # Loop through numbers 1 to 9\n",
        "    angle = 360 / sides                             # Calculate the angle for the current number of sides\n",
        "    print(\"Angle for\", sides, \"sides is\", angle)    # Print the result"
      ]
    },
    {
      "cell_type": "markdown",
      "metadata": {},
      "source": [
        "Notice how the angle changes for each number of sides. This is the power of variables—they let you write code that adapts automatically!"
      ]
    },
    {
      "cell_type": "markdown",
      "metadata": {},
      "source": [
        "## **What is a Function?**\n",
        "\n",
        "A function is a named block of code that you can run whenever you need it. Functions help you organize your code, avoid repetition, and make your programs easier to read and update.\n",
        "\n",
        "Here's an example of a simple function:"
      ]
    },
    {
      "cell_type": "code",
      "execution_count": null,
      "metadata": {},
      "outputs": [],
      "source": [
        "# Run Me!\n",
        "\n",
        "# Define a function to say hello multiple times\n",
        "def say_hello(name, times):                         # Define the function with two parameters\n",
        "    for i in range(times):                          # Loop 'times' times\n",
        "        print(i, \"Hello\", name)                     # Print a greeting with the current count\n",
        "say_hello(\"John\", 5)                                # Call the function with arguments"
      ]
    },
    {
      "cell_type": "markdown",
      "metadata": {},
      "source": [
        "The line starting with `def` defines the function. The indented lines are the function's body. You can call the function with different arguments to reuse the code.\n",
        "\n",
        "Try calling the function with different names and numbers:"
      ]
    },
    {
      "cell_type": "code",
      "execution_count": null,
      "metadata": {},
      "outputs": [],
      "source": [
        "say_hello('Bob', 3)"
      ]
    },
    {
      "cell_type": "markdown",
      "metadata": {},
      "source": [
        "If we want 6 sides the angle is 60 degrees, and sure enough, $60*6 = 360$.\n",
        "\n",
        "The words  `sides`  and `angle` are __variables__, which are like the names of boxes \n",
        "that can hold values. We can __assign__ values to variables, then use those variables \n",
        "in other places. \n",
        "\n",
        "```python \n",
        "\n",
        "sides = 4\n",
        "angle = 360/sides           # Calculate the angle from the number of sides. \n",
        "\n",
        "for i in range(sides):\n",
        "    tina.forward(150)       # Move tina forward by the forward distance\n",
        "    tina.left(angle)        # Turn tina left by the left turn\n",
        "\n",
        "```\n",
        "\n",
        "In this program, if you change the number that we assign to `sides`, the angle will change automatically!\n",
        "\n",
        "Let's see if the angles created by this equation seem correct. Fill in the\n",
        "'...' in the program in the cell below to calculate angles from sides: "
      ]
    },
    {
      "cell_type": "code",
      "execution_count": null,
      "metadata": {},
      "outputs": [],
      "source": [
        "# Run me!\n",
        "\n",
        "for sides in range(1, 10):\n",
        "    angle = ...\n",
        "    print(\"Angle for \", sides, \" sides is \", angle)\n",
        "   "
      ]
    },
    {
      "cell_type": "markdown",
      "metadata": {},
      "source": [
        "# Functions\n",
        "\n",
        "We can make another more improvement in our program; by grouping \n",
        "the commands to create a shape into a __function__. Here is an example of a function:"
      ]
    },
    {
      "cell_type": "code",
      "execution_count": null,
      "metadata": {},
      "outputs": [],
      "source": [
        "def say_hello(name, times):         # define the function, and give it a name.  'name' and 'times' are parameters\n",
        "\n",
        "    for i in range(times):          # This is the body of the function\n",
        "        print(i, \"Hello \", name)\n",
        "\n",
        "say_hello(\"John\", 5)                # Call the function, and pass it two arguments"
      ]
    },
    {
      "cell_type": "markdown",
      "metadata": {},
      "source": [
        "The line that starts with 'def' is the start of the function definition, and the\n",
        "last line is where we call the function -- we actually run it.   Try calling the\n",
        "function again with different parameters."
      ]
    },
    {
      "cell_type": "code",
      "execution_count": null,
      "metadata": {},
      "outputs": [],
      "source": [
        "say_hello('bob',3)"
      ]
    },
    {
      "cell_type": "code",
      "execution_count": null,
      "metadata": {},
      "outputs": [],
      "source": []
    }
  ],
  "metadata": {
    "kernelspec": {
      "display_name": ".venv",
      "language": "python",
      "name": "python3"
    },
    "language_info": {
      "codemirror_mode": {
        "name": "ipython",
        "version": 3
      },
      "file_extension": ".py",
      "mimetype": "text/x-python",
      "name": "python",
      "nbconvert_exporter": "python",
      "pygments_lexer": "ipython3",
      "version": "3.13.5"
    },
    "syllabus": {
      "uid": "HOBo0wvj"
    }
  },
  "nbformat": 4,
  "nbformat_minor": 2
}
